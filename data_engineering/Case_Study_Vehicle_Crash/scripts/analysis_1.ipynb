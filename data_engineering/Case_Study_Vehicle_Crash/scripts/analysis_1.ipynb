{
 "cells": [
  {
   "cell_type": "code",
   "execution_count": 1,
   "metadata": {},
   "outputs": [],
   "source": [
    "from pyspark.sql import SparkSession\n",
    "from pyspark.sql import functions as F\n",
    "from pyspark.sql.types import *"
   ]
  },
  {
   "cell_type": "code",
   "execution_count": 2,
   "metadata": {},
   "outputs": [],
   "source": [
    "spark = SparkSession.builder \\\n",
    "    .appName(\"Vehicle_Crash_Case_Study\") \\\n",
    "    .config(\"spark.debug.maxToStringFields\",\"10000\") \\\n",
    "    .getOrCreate()  "
   ]
  },
  {
   "cell_type": "code",
   "execution_count": 3,
   "metadata": {},
   "outputs": [
    {
     "data": {
      "text/plain": [
       "'local-1661942970737'"
      ]
     },
     "execution_count": 3,
     "metadata": {},
     "output_type": "execute_result"
    }
   ],
   "source": [
    "appId = spark.sparkContext.applicationId\n",
    "appId"
   ]
  },
  {
   "cell_type": "code",
   "execution_count": 4,
   "metadata": {},
   "outputs": [],
   "source": [
    "read_format = 'csv'\n",
    "file_path = '../Data/'\n",
    "file_name = 'Primary_Person_use.csv'"
   ]
  },
  {
   "cell_type": "code",
   "execution_count": 5,
   "metadata": {},
   "outputs": [],
   "source": [
    "persons_df = spark.read.csv(f'{file_path}{file_name}', header=True)"
   ]
  },
  {
   "cell_type": "code",
   "execution_count": 6,
   "metadata": {},
   "outputs": [],
   "source": [
    "#persons_df.show(truncate=False)\n",
    "persons_df.createOrReplaceTempView(\"persons\")"
   ]
  },
  {
   "cell_type": "code",
   "execution_count": 7,
   "metadata": {},
   "outputs": [
    {
     "name": "stdout",
     "output_type": "stream",
     "text": [
      "+---------------------+-----+\n",
      "|Description          |Count|\n",
      "+---------------------+-----+\n",
      "|Crashes [Male Killed]|122  |\n",
      "+---------------------+-----+\n",
      "\n"
     ]
    }
   ],
   "source": [
    "spark.sql('''select \"Crashes [Male Killed]\" as Description, \\\n",
    "    count(distinct p.crash_id) as Count \\\n",
    "    from persons p \\\n",
    "    where p.prsn_gndr_id in (\"MALE\") and p.DEATH_CNT == 1 and p.crash_id not in \\\n",
    "    (select distinct p.crash_id from persons p where p.prsn_gndr_id in (\"FEMALE\",\"UNKNOWN\",\"NA\"))''').show(truncate=False)"
   ]
  },
  {
   "cell_type": "code",
   "execution_count": 8,
   "metadata": {},
   "outputs": [],
   "source": [
    "from itertools import groupby\n",
    "\n",
    "non_male = persons_df.filter(persons_df.PRSN_GNDR_ID.isin([\"FEMALE\",\"UNKNOWN\",\"NA\"])) \\\n",
    "    .groupby(\"CRASH_ID\").count() \\\n",
    "    .select(\"CRASH_ID\")\n",
    "#non_male.show()"
   ]
  },
  {
   "cell_type": "code",
   "execution_count": 15,
   "metadata": {},
   "outputs": [],
   "source": [
    "male_killed = persons_df.filter((persons_df.PRSN_GNDR_ID == \"MALE\") & (persons_df.DEATH_CNT == 1)) \\\n",
    "    .groupBy(\"CRASH_ID\").count() \\\n",
    "    .select(\"CRASH_ID\").subtract(non_male) \\\n",
    "    .selectExpr(\"count(CRASH_ID) as crash_count\") \\\n",
    "    .withColumn(\"description\", F.lit(\"Crashes [male killed]\")) \\\n",
    "    .select(\"description\",\"crash_count\")"
   ]
  },
  {
   "cell_type": "code",
   "execution_count": 17,
   "metadata": {},
   "outputs": [
    {
     "name": "stdout",
     "output_type": "stream",
     "text": [
      "== Physical Plan ==\n",
      "AdaptiveSparkPlan isFinalPlan=false\n",
      "+- HashAggregate(keys=[CRASH_ID#17], functions=[])\n",
      "   +- Exchange hashpartitioning(CRASH_ID#17, 200), ENSURE_REQUIREMENTS, [id=#1117]\n",
      "      +- HashAggregate(keys=[CRASH_ID#17], functions=[])\n",
      "         +- Project [CRASH_ID#17]\n",
      "            +- Filter PRSN_GNDR_ID#25 IN (FEMALE,UNKNOWN,NA)\n",
      "               +- FileScan csv [CRASH_ID#17,PRSN_GNDR_ID#25] Batched: false, DataFilters: [PRSN_GNDR_ID#25 IN (FEMALE,UNKNOWN,NA)], Format: CSV, Location: InMemoryFileIndex(1 paths)[file:/e:/MyGitHubRepo/data-labs/data_engineering/Case_Study_Vehicle_Cr..., PartitionFilters: [], PushedFilters: [In(PRSN_GNDR_ID, [FEMALE,NA,UNKNOWN])], ReadSchema: struct<CRASH_ID:string,PRSN_GNDR_ID:string>\n",
      "\n",
      "\n"
     ]
    }
   ],
   "source": [
    "non_male.explain()"
   ]
  },
  {
   "cell_type": "code",
   "execution_count": null,
   "metadata": {},
   "outputs": [],
   "source": []
  }
 ],
 "metadata": {
  "kernelspec": {
   "display_name": "Python 3.8.13 ('pyspark3')",
   "language": "python",
   "name": "python3"
  },
  "language_info": {
   "codemirror_mode": {
    "name": "ipython",
    "version": 3
   },
   "file_extension": ".py",
   "mimetype": "text/x-python",
   "name": "python",
   "nbconvert_exporter": "python",
   "pygments_lexer": "ipython3",
   "version": "3.8.13"
  },
  "orig_nbformat": 4,
  "vscode": {
   "interpreter": {
    "hash": "8092172220567f04f79384f25da172e6ff48de9034ccbb45c2a42edf1589a13f"
   }
  }
 },
 "nbformat": 4,
 "nbformat_minor": 2
}

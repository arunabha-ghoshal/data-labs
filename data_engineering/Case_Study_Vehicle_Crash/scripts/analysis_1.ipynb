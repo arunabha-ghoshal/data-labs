{
 "cells": [
  {
   "cell_type": "code",
   "execution_count": 1,
   "metadata": {},
   "outputs": [],
   "source": [
    "from pyspark.sql import SparkSession\n"
   ]
  },
  {
   "cell_type": "code",
   "execution_count": 2,
   "metadata": {},
   "outputs": [],
   "source": [
    "spark = SparkSession.builder.appName(\"Vehicle_Crash_Case_Study\").getOrCreate()"
   ]
  },
  {
   "cell_type": "code",
   "execution_count": 5,
   "metadata": {},
   "outputs": [],
   "source": [
    "read_format = 'csv'\n",
    "file_path = '../Data/'\n",
    "file_charges = 'Charges_use.csv'\n"
   ]
  },
  {
   "cell_type": "code",
   "execution_count": 9,
   "metadata": {},
   "outputs": [],
   "source": [
    "df_charges = spark.read.format(read_format).option(\"header\",\"true\").load(file_path+file_charges)\n",
    "df_charges.createOrReplaceTempView('charges')"
   ]
  },
  {
   "cell_type": "code",
   "execution_count": 11,
   "metadata": {},
   "outputs": [
    {
     "name": "stdout",
     "output_type": "stream",
     "text": [
      "+--------+--------+--------+----------------------------------------+------------+\n",
      "|CRASH_ID|UNIT_NBR|PRSN_NBR|CHARGE                                  |CITATION_NBR|\n",
      "+--------+--------+--------+----------------------------------------+------------+\n",
      "|14768622|1       |1       |DRIVING WHILE INTOXICATED               |null        |\n",
      "|14838637|1       |1       |DWI                                     |1600000015  |\n",
      "|14838641|1       |1       |RAN RED LIGHT SOLID (TC 544.007)        |L20440      |\n",
      "|14838641|2       |1       |NO DRIVER'S LICENSE (TC521.025)         |L23141      |\n",
      "|14838668|1       |1       |DRIVING WHILE INTOXICATED               |TX4IC50SRJD3|\n",
      "|14838669|2       |1       |DWI W/BAC >.015                         |2015-000006 |\n",
      "|14838670|1       |1       |DRIVING WHILE INTOXICATED               |2016-000003 |\n",
      "|14838685|1       |1       |FAILED TO DRIVE SINGLE LANE, NOL, NO INS|138434825   |\n",
      "|14838693|1       |1       |DRIVING WHILE INTOXICATED               |TX4IC60UKQND|\n",
      "|14838768|2       |1       |DWI                                     |null        |\n",
      "|14838834|1       |1       |NO DRIVERS LICENSE                      |10019200    |\n",
      "|14838834|1       |1       |FAIL TO CONTROL SPEED                   |10019200    |\n",
      "|14838834|1       |1       |LEAVING THE SCENE                       |10019200    |\n",
      "|14838841|1       |1       |FTLI   / DWLI                           |16-43861    |\n",
      "|14838841|1       |1       |LEAVING SCENE OF ACCIDENT               |16-43861    |\n",
      "|14838841|1       |1       |FAIL TO DRIVE IN SINGLE LANE            |16-43861    |\n",
      "|14838841|1       |1       |FAIL TO REPORT ACCIDENT                 |16-43861    |\n",
      "|14838842|1       |1       |LEAVING SCENE OF ACCIDENT               |16-43859    |\n",
      "|14838842|1       |1       |FAIL TO REPORT ACCIDENT                 |16-43859    |\n",
      "|14838842|1       |1       |FAIL TO DRIVE IN SINGLE LANE            |16-43859    |\n",
      "+--------+--------+--------+----------------------------------------+------------+\n",
      "only showing top 20 rows\n",
      "\n"
     ]
    }
   ],
   "source": [
    "spark.sql('''select * from charges''').show(truncate=False)"
   ]
  },
  {
   "cell_type": "code",
   "execution_count": null,
   "metadata": {},
   "outputs": [],
   "source": []
  }
 ],
 "metadata": {
  "kernelspec": {
   "display_name": "Python 3.8.13 ('pyspark3')",
   "language": "python",
   "name": "python3"
  },
  "language_info": {
   "codemirror_mode": {
    "name": "ipython",
    "version": 3
   },
   "file_extension": ".py",
   "mimetype": "text/x-python",
   "name": "python",
   "nbconvert_exporter": "python",
   "pygments_lexer": "ipython3",
   "version": "3.8.13"
  },
  "orig_nbformat": 4,
  "vscode": {
   "interpreter": {
    "hash": "8092172220567f04f79384f25da172e6ff48de9034ccbb45c2a42edf1589a13f"
   }
  }
 },
 "nbformat": 4,
 "nbformat_minor": 2
}

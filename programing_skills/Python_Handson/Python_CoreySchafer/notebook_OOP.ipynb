{
 "cells": [
  {
   "cell_type": "markdown",
   "metadata": {},
   "source": [
    "## Classes and Instances"
   ]
  },
  {
   "cell_type": "code",
   "execution_count": 12,
   "metadata": {},
   "outputs": [
    {
     "name": "stdout",
     "output_type": "stream",
     "text": [
      "Arun.Ghoshal@company.com\n",
      "Raj.Aryan@company.com\n",
      "Arun Ghoshal\n"
     ]
    }
   ],
   "source": [
    "class Employee:\n",
    "\n",
    "    def __init__(self,first,last,pay):\n",
    "        self.first = first\n",
    "        self.last = last\n",
    "        self.pay = pay\n",
    "        self.email = first+'.'+last+'@company.com'\n",
    "\n",
    "    def fullname(self):\n",
    "        return '{} {}'.format(self.first,self.last)\n",
    "\n",
    "emp1 = Employee('Arun','Ghoshal',10)\n",
    "emp2 = Employee('Raj','Aryan',15)\n",
    "\n",
    "print(emp1.email)\n",
    "print(emp2.email)\n",
    "print(emp1.fullname())"
   ]
  },
  {
   "cell_type": "markdown",
   "metadata": {},
   "source": [
    "## Class variables"
   ]
  },
  {
   "cell_type": "code",
   "execution_count": 33,
   "metadata": {},
   "outputs": [
    {
     "name": "stdout",
     "output_type": "stream",
     "text": [
      "0\n",
      "2\n",
      "Arun.Ghoshal@company.com\n",
      "Raj.Aryan@company.com\n",
      "Arun Ghoshal\n",
      "10\n"
     ]
    }
   ],
   "source": [
    "class Employee:\n",
    "    raise_amount = 1.5\n",
    "    num_of_empl = 0\n",
    "    def __init__(self,first,last,pay):\n",
    "        self.first = first\n",
    "        self.last = last\n",
    "        self.pay = pay\n",
    "        self.email = first+'.'+last+'@company.com'\n",
    "        Employee.num_of_empl += 1\n",
    "\n",
    "    def fullname(self):\n",
    "        return '{} {}'.format(self.first,self.last)\n",
    "\n",
    "    def apply_raise(self):\n",
    "        self.pay = int(self.pay * self.raise_amount)\n",
    "\n",
    "print(Employee.num_of_empl)\n",
    "\n",
    "emp1 = Employee('Arun','Ghoshal',10)\n",
    "emp2 = Employee('Raj','Aryan',15)\n",
    "\n",
    "print(Employee.num_of_empl)\n",
    "\n",
    "print(emp1.email)\n",
    "print(emp2.email)\n",
    "print(emp1.fullname())\n",
    "print(emp1.pay)"
   ]
  },
  {
   "cell_type": "markdown",
   "metadata": {},
   "source": [
    "```Important concept```"
   ]
  },
  {
   "cell_type": "code",
   "execution_count": 34,
   "metadata": {},
   "outputs": [
    {
     "name": "stdout",
     "output_type": "stream",
     "text": [
      "10\n",
      "15\n",
      "2\n",
      "1.5\n",
      "20\n",
      "22\n"
     ]
    }
   ],
   "source": [
    "print(emp1.pay)\n",
    "print(emp2.pay)\n",
    "#Employee.raise_amount=2    ##will effect both\n",
    "emp1.raise_amount = 2       ##will effect only that particular instance\n",
    "print(emp1.raise_amount)\n",
    "print(emp2.raise_amount)\n",
    "emp1.apply_raise()\n",
    "emp2.apply_raise()\n",
    "print(emp1.pay)\n",
    "print(emp2.pay)"
   ]
  },
  {
   "cell_type": "code",
   "execution_count": 37,
   "metadata": {},
   "outputs": [
    {
     "name": "stdout",
     "output_type": "stream",
     "text": [
      "{'first': 'Arun', 'last': 'Ghoshal', 'pay': 20, 'email': 'Arun.Ghoshal@company.com', 'raise_amount': 2}\n",
      "{'__module__': '__main__', 'raise_amount': 1.5, 'num_of_empl': 2, '__init__': <function Employee.__init__ at 0x000001CF71482440>, 'fullname': <function Employee.fullname at 0x000001CF71481360>, 'apply_raise': <function Employee.apply_raise at 0x000001CF71482560>, '__dict__': <attribute '__dict__' of 'Employee' objects>, '__weakref__': <attribute '__weakref__' of 'Employee' objects>, '__doc__': None}\n"
     ]
    }
   ],
   "source": [
    "print(emp1.__dict__)\n",
    "print(Employee.__dict__)"
   ]
  },
  {
   "cell_type": "markdown",
   "metadata": {},
   "source": [
    "## Classmethods and Staticmethods"
   ]
  },
  {
   "cell_type": "code",
   "execution_count": 45,
   "metadata": {},
   "outputs": [
    {
     "name": "stdout",
     "output_type": "stream",
     "text": [
      "John\n",
      "John.Doe@company.com\n",
      "7000\n",
      "True\n"
     ]
    }
   ],
   "source": [
    "class Employee:\n",
    "    raise_amount = 1.5\n",
    "    num_of_empl = 0\n",
    "    def __init__(self,first,last,pay):\n",
    "        self.first = first\n",
    "        self.last = last\n",
    "        self.pay = pay\n",
    "        self.email = first+'.'+last+'@company.com'\n",
    "        Employee.num_of_empl += 1\n",
    "\n",
    "    def fullname(self):\n",
    "        return '{} {}'.format(self.first,self.last)\n",
    "\n",
    "    def apply_raise(self):\n",
    "        self.pay = int(self.pay * self.raise_amount)\n",
    "\n",
    "    @classmethod\n",
    "    def set_raise_amt(cls, amount):\n",
    "        cls.raise_amount = amount\n",
    "\n",
    "    @classmethod\n",
    "    def from_string(cls, emp_str):\n",
    "        first, last, pay = emp_str.split('-')\n",
    "        return cls(first, last, pay)\n",
    "    \n",
    "    @staticmethod\n",
    "    def is_workday(day):\n",
    "        if day.weekday() == 5 or day.weekday() == 6:\n",
    "            return False\n",
    "        return True\n",
    "\n",
    "emp1 = Employee('Arun','Ghoshal',10)\n",
    "emp2 = Employee('Raj','Aryan',15)\n",
    "\n",
    "emp_str_1 = \"John-Doe-7000\"\n",
    "emp_str_2 = \"Jane-Doe-8000\"\n",
    "emp_str_3 = \"Neil-Doe-8000\"\n",
    "\n",
    "new_emp_1 = Employee.from_string(emp_str_1)\n",
    "print(new_emp_1.first)\n",
    "print(new_emp_1.email)\n",
    "print(new_emp_1.pay)\n",
    "\n",
    "import datetime\n",
    "my_date = datetime.date(2022,7,15)\n",
    "print(Employee.is_workday(my_date))"
   ]
  },
  {
   "cell_type": "code",
   "execution_count": 40,
   "metadata": {},
   "outputs": [
    {
     "name": "stdout",
     "output_type": "stream",
     "text": [
      "2.5\n",
      "2.5\n",
      "2.5\n"
     ]
    }
   ],
   "source": [
    "Employee.set_raise_amt(2.5)\n",
    "print(Employee.raise_amount)\n",
    "print(emp1.raise_amount)\n",
    "print(emp2.raise_amount)"
   ]
  },
  {
   "cell_type": "markdown",
   "metadata": {},
   "source": [
    "## Inheritance - Creating Subclasses"
   ]
  },
  {
   "cell_type": "code",
   "execution_count": 46,
   "metadata": {},
   "outputs": [
    {
     "name": "stdout",
     "output_type": "stream",
     "text": [
      "Raj.Aryan@company.com\n",
      "Arun.Ghoshal@company.com\n"
     ]
    }
   ],
   "source": [
    "class Employee:\n",
    "    raise_amount = 1.5\n",
    "    num_of_empl = 0\n",
    "    def __init__(self,first,last,pay):\n",
    "        self.first = first\n",
    "        self.last = last\n",
    "        self.pay = pay\n",
    "        self.email = first+'.'+last+'@company.com'\n",
    "        Employee.num_of_empl += 1\n",
    "\n",
    "    def fullname(self):\n",
    "        return '{} {}'.format(self.first,self.last)\n",
    "\n",
    "    def apply_raise(self):\n",
    "        self.pay = int(self.pay * self.raise_amount)\n",
    "\n",
    "    @classmethod\n",
    "    def from_string(cls, emp_str):\n",
    "        first, last, pay = emp_str.split('-')\n",
    "        return cls(first, last, pay)\n",
    "\n",
    "class Developer(Employee):\n",
    "    pass\n",
    "\n",
    "dev_1 = Developer('Raj','Aryan',15)\n",
    "dev_2 = Developer('Arun','Ghoshal',15)\n",
    "\n",
    "print(dev_1.email)\n",
    "print(dev_2.email)"
   ]
  },
  {
   "cell_type": "code",
   "execution_count": 47,
   "metadata": {},
   "outputs": [
    {
     "name": "stdout",
     "output_type": "stream",
     "text": [
      "Help on class Developer in module __main__:\n",
      "\n",
      "class Developer(Employee)\n",
      " |  Developer(first, last, pay)\n",
      " |  \n",
      " |  Method resolution order:\n",
      " |      Developer\n",
      " |      Employee\n",
      " |      builtins.object\n",
      " |  \n",
      " |  Methods inherited from Employee:\n",
      " |  \n",
      " |  __init__(self, first, last, pay)\n",
      " |      Initialize self.  See help(type(self)) for accurate signature.\n",
      " |  \n",
      " |  apply_raise(self)\n",
      " |  \n",
      " |  fullname(self)\n",
      " |  \n",
      " |  ----------------------------------------------------------------------\n",
      " |  Data descriptors inherited from Employee:\n",
      " |  \n",
      " |  __dict__\n",
      " |      dictionary for instance variables (if defined)\n",
      " |  \n",
      " |  __weakref__\n",
      " |      list of weak references to the object (if defined)\n",
      " |  \n",
      " |  ----------------------------------------------------------------------\n",
      " |  Data and other attributes inherited from Employee:\n",
      " |  \n",
      " |  num_of_empl = 2\n",
      " |  \n",
      " |  raise_amount = 1.5\n",
      "\n",
      "None\n"
     ]
    }
   ],
   "source": [
    "print(help(Developer))"
   ]
  },
  {
   "cell_type": "code",
   "execution_count": null,
   "metadata": {},
   "outputs": [],
   "source": []
  },
  {
   "cell_type": "code",
   "execution_count": null,
   "metadata": {},
   "outputs": [],
   "source": []
  },
  {
   "cell_type": "code",
   "execution_count": null,
   "metadata": {},
   "outputs": [],
   "source": []
  },
  {
   "cell_type": "markdown",
   "metadata": {},
   "source": [
    "## Special (Magic/Dunder) Methods"
   ]
  },
  {
   "cell_type": "code",
   "execution_count": 58,
   "metadata": {},
   "outputs": [
    {
     "name": "stdout",
     "output_type": "stream",
     "text": [
      "9\n"
     ]
    }
   ],
   "source": [
    "class Employee:\n",
    "    raise_amount = 1.5\n",
    "    num_of_empl = 0\n",
    "    def __init__(self,first,last,pay):\n",
    "        self.first = first\n",
    "        self.last = last\n",
    "        self.pay = pay\n",
    "        self.email = first+'.'+last+'@company.com'\n",
    "        Employee.num_of_empl += 1\n",
    "\n",
    "    def fullname(self):\n",
    "        return '{} {}'.format(self.first,self.last)\n",
    "\n",
    "    def apply_raise(self):\n",
    "        self.pay = int(self.pay * self.raise_amount)\n",
    "\n",
    "    def __repr__(self):\n",
    "        return \"Employee('{}', '{}', '{}')\".format(self.first,self.last,self.pay)\n",
    "    \n",
    "    def __str__(self):\n",
    "        return '{} - {}'.format(self.fullname(),self.email)\n",
    "    \n",
    "    def __add__(self, other):\n",
    "        return self.pay + other.pay\n",
    "\n",
    "    def __len__(self):\n",
    "        return len(self.fullname())\n",
    "\n",
    "emp1 = Employee('Raj','Aryan',15)\n",
    "emp2 = Employee('Arun','Ghoshal',10)\n",
    "\n",
    "# print(emp1)\n",
    "\n",
    "# print(repr(emp1))\n",
    "# print(str(emp1))\n",
    "\n",
    "# print(emp1.__repr__())\n",
    "# print(emp1.__str__())\n",
    "\n",
    "# print(emp1+emp2)\n",
    "\n",
    "print(len(emp1))"
   ]
  },
  {
   "cell_type": "code",
   "execution_count": 55,
   "metadata": {},
   "outputs": [
    {
     "name": "stdout",
     "output_type": "stream",
     "text": [
      "3\n",
      "ab\n"
     ]
    }
   ],
   "source": [
    "print(int.__add__(1,2))\n",
    "print(str.__add__('a','b'))"
   ]
  },
  {
   "cell_type": "markdown",
   "metadata": {},
   "source": [
    "## Property Decorators - Getters, Setters, and Deleters"
   ]
  },
  {
   "cell_type": "code",
   "execution_count": 67,
   "metadata": {},
   "outputs": [
    {
     "name": "stdout",
     "output_type": "stream",
     "text": [
      "Arunabha\n",
      "Ghoshal\n",
      "Arunabha Ghoshal\n",
      "Arunabha.Ghoshal@email.com\n",
      "Deleted Name !\n"
     ]
    }
   ],
   "source": [
    "class Employee:\n",
    "    raise_amount = 1.5\n",
    "    num_of_empl = 0\n",
    "    def __init__(self,first,last,pay):\n",
    "        self.first = first\n",
    "        self.last = last\n",
    "        self.pay = pay\n",
    "        #self.email = first+'.'+last+'@company.com'\n",
    "        Employee.num_of_empl += 1\n",
    "\n",
    "    @property\n",
    "    def email(self):\n",
    "        return '{}.{}@email.com'.format(self.first,self.last)\n",
    "\n",
    "    @property\n",
    "    def fullname(self):\n",
    "        return '{} {}'.format(self.first,self.last)\n",
    "    \n",
    "    @fullname.setter\n",
    "    def fullname(self, name):\n",
    "        first, last = name.split(' ')\n",
    "        self.first = first\n",
    "        self.last = last\n",
    "    \n",
    "    @fullname.deleter\n",
    "    def fullname(self):\n",
    "        print('Deleted Name !')\n",
    "        self.first = None\n",
    "        self.last = None\n",
    "\n",
    "emp1 = Employee('Raj','Aryan',15)\n",
    "\n",
    "emp1.fullname = 'Arunabha Ghoshal'\n",
    "\n",
    "print(emp1.first)\n",
    "print(emp1.last)\n",
    "print(emp1.fullname)\n",
    "print(emp1.email)\n",
    "\n",
    "del emp1.fullname"
   ]
  },
  {
   "cell_type": "markdown",
   "metadata": {},
   "source": [
    "## Problem - 1"
   ]
  },
  {
   "cell_type": "markdown",
   "metadata": {},
   "source": [
    "Imagine that you receive a task description of an application that monitors the process of apple packaging before the apples are sent to a shop.\n",
    "\n",
    "A shop owner has asked for 1000 apples, but the total weight limitation cannot exceed 300 units.\n",
    "\n",
    "Write a code that creates objects representing apples as long as both limitations are met. When any limitation is exceeded, than the packaging process is stopped, and your application should print the number of apple class objects created, and the total weight.\n",
    "\n",
    "Your application should keep track of two parameters:\n",
    "\n",
    "* the number of apples processed, stored as a class variable;\n",
    "* the total weight of the apples processed; stored as a class variable. Assume that each apple's weight is random, and can vary between 0.2 and 0.5 of an imaginary weight unit;"
   ]
  },
  {
   "cell_type": "code",
   "execution_count": 36,
   "metadata": {},
   "outputs": [],
   "source": [
    "import random\n",
    "class Apple:\n",
    "    apple_count = 0\n",
    "    bucket_weight = 0\n",
    "\n",
    "    def __init__(self):\n",
    "        Apple.apple_count += 1\n",
    "        self.weight = random.uniform(0.2,0.5)\n",
    "        Apple.bucket_weight += self.weight\n",
    "    "
   ]
  },
  {
   "cell_type": "code",
   "execution_count": 37,
   "metadata": {},
   "outputs": [
    {
     "name": "stdout",
     "output_type": "stream",
     "text": [
      "Packaging stopped !\n",
      "Number of apples :  861\n",
      "Weight of basket :  299.92771204798476\n"
     ]
    }
   ],
   "source": [
    "count_thres = 1000\n",
    "weight_thres = 300\n",
    "while True:\n",
    "    obj = Apple()\n",
    "    if obj.apple_count>count_thres or obj.bucket_weight>weight_thres:\n",
    "        print(\"Packaging stopped !\")\n",
    "        print(\"Number of apples : \",Apple.apple_count - 1)\n",
    "        print(\"Weight of basket : \",Apple.bucket_weight - obj.weight)\n",
    "        break"
   ]
  },
  {
   "cell_type": "code",
   "execution_count": 33,
   "metadata": {},
   "outputs": [
    {
     "data": {
      "text/plain": [
       "float"
      ]
     },
     "execution_count": 33,
     "metadata": {},
     "output_type": "execute_result"
    }
   ],
   "source": [
    "obj.weight.__class__"
   ]
  },
  {
   "cell_type": "code",
   "execution_count": null,
   "metadata": {},
   "outputs": [],
   "source": [
    "isinstance()"
   ]
  }
 ],
 "metadata": {
  "kernelspec": {
   "display_name": "Python 3.10.2 64-bit",
   "language": "python",
   "name": "python3"
  },
  "language_info": {
   "codemirror_mode": {
    "name": "ipython",
    "version": 3
   },
   "file_extension": ".py",
   "mimetype": "text/x-python",
   "name": "python",
   "nbconvert_exporter": "python",
   "pygments_lexer": "ipython3",
   "version": "3.10.2"
  },
  "orig_nbformat": 4,
  "vscode": {
   "interpreter": {
    "hash": "b6fecb9821137fb1eeea2161f49225dfc2219e02bf5341a9f2c882710ff7fd7e"
   }
  }
 },
 "nbformat": 4,
 "nbformat_minor": 2
}

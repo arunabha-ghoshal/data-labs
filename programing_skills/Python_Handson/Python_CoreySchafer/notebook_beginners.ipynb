{
 "cells": [
  {
   "cell_type": "markdown",
   "metadata": {},
   "source": [
    "## String"
   ]
  },
  {
   "cell_type": "code",
   "execution_count": 2,
   "metadata": {},
   "outputs": [
    {
     "name": "stdout",
     "output_type": "stream",
     "text": [
      "2\n"
     ]
    }
   ],
   "source": [
    "msg = \"Hello World\"\n",
    "\n",
    "#to find occurance of a string or character\n",
    "print(msg.find('l'))"
   ]
  },
  {
   "cell_type": "code",
   "execution_count": 3,
   "metadata": {},
   "outputs": [
    {
     "name": "stdout",
     "output_type": "stream",
     "text": [
      "Hello Universe\n"
     ]
    }
   ],
   "source": [
    "#replace\n",
    "msg_1 =msg.replace(\"World\",\"Universe\")\n",
    "print(msg_1)"
   ]
  },
  {
   "cell_type": "code",
   "execution_count": 5,
   "metadata": {},
   "outputs": [
    {
     "name": "stdout",
     "output_type": "stream",
     "text": [
      "Hello World , Hello Universe\n"
     ]
    }
   ],
   "source": [
    "#concatenation\n",
    "print(msg+' , '+msg_1)"
   ]
  },
  {
   "cell_type": "markdown",
   "metadata": {},
   "source": [
    "## Numbers"
   ]
  },
  {
   "cell_type": "code",
   "execution_count": 8,
   "metadata": {},
   "outputs": [
    {
     "name": "stdout",
     "output_type": "stream",
     "text": [
      "3.8\n",
      "5.75\n"
     ]
    }
   ],
   "source": [
    "print(round(3.75,1))\n",
    "print(abs(-5.75))"
   ]
  },
  {
   "cell_type": "markdown",
   "metadata": {},
   "source": [
    "## List, Tuple, Sets"
   ]
  },
  {
   "cell_type": "code",
   "execution_count": 13,
   "metadata": {},
   "outputs": [
    {
     "name": "stdout",
     "output_type": "stream",
     "text": [
      "['History', 'Geography', 'Maths', 'Physics']\n",
      "['History', 'Geography']\n",
      "['Maths', 'Physics', 'Chemistry', 'Biology']\n"
     ]
    }
   ],
   "source": [
    "courses = [\"History\", \"Geography\", \"Maths\", \"Physics\", \"Chemistry\", \"Biology\"]\n",
    "print(courses[0:4])\n",
    "print(courses[:-4])\n",
    "print(courses[2:])"
   ]
  },
  {
   "cell_type": "code",
   "execution_count": 15,
   "metadata": {},
   "outputs": [
    {
     "name": "stdout",
     "output_type": "stream",
     "text": [
      "['History', 'Geography', 'Maths', 'Physics', 'Chemistry', 'Biology', 'Arts', 'Arts']\n"
     ]
    }
   ],
   "source": [
    "courses.append(\"Arts\")\n",
    "print(courses)"
   ]
  },
  {
   "cell_type": "code",
   "execution_count": 16,
   "metadata": {},
   "outputs": [
    {
     "name": "stdout",
     "output_type": "stream",
     "text": [
      "[['Eductaion', 'Policy'], 'History', 'Geography', 'Maths', 'Physics', 'Chemistry', 'Biology', 'Arts', 'Arts']\n"
     ]
    }
   ],
   "source": [
    "courses_2 = [\"Eductaion\",\"Policy\"]\n",
    "courses.insert(0,courses_2)\n",
    "print(courses)"
   ]
  },
  {
   "cell_type": "code",
   "execution_count": 17,
   "metadata": {},
   "outputs": [
    {
     "name": "stdout",
     "output_type": "stream",
     "text": [
      "['History', 'Geography', 'Maths', 'Physics', 'Chemistry', 'Biology', 'Eductaion', 'Policy']\n"
     ]
    }
   ],
   "source": [
    "courses = [\"History\", \"Geography\", \"Maths\", \"Physics\", \"Chemistry\", \"Biology\"]\n",
    "courses_2 = [\"Eductaion\",\"Policy\"]\n",
    "courses.extend(courses_2)\n",
    "print(courses)"
   ]
  },
  {
   "cell_type": "code",
   "execution_count": 19,
   "metadata": {},
   "outputs": [
    {
     "name": "stdout",
     "output_type": "stream",
     "text": [
      "['History', 'Geography', 'Physics', 'Chemistry', 'Biology']\n"
     ]
    }
   ],
   "source": [
    "courses = [\"History\", \"Geography\", \"Maths\", \"Physics\", \"Chemistry\", \"Biology\"]\n",
    "courses.remove('Maths')\n",
    "print(courses)"
   ]
  },
  {
   "cell_type": "code",
   "execution_count": 20,
   "metadata": {},
   "outputs": [
    {
     "name": "stdout",
     "output_type": "stream",
     "text": [
      "['History', 'Geography', 'Maths', 'Physics', 'Chemistry']\n"
     ]
    }
   ],
   "source": [
    "courses = [\"History\", \"Geography\", \"Maths\", \"Physics\", \"Chemistry\", \"Biology\"]\n",
    "courses.pop()\n",
    "print(courses)"
   ]
  },
  {
   "cell_type": "code",
   "execution_count": 21,
   "metadata": {},
   "outputs": [
    {
     "name": "stdout",
     "output_type": "stream",
     "text": [
      "['Biology', 'Chemistry', 'Physics', 'Maths', 'Geography', 'History']\n"
     ]
    }
   ],
   "source": [
    "courses = [\"History\", \"Geography\", \"Maths\", \"Physics\", \"Chemistry\", \"Biology\"]\n",
    "courses.reverse()\n",
    "print(courses)"
   ]
  },
  {
   "cell_type": "code",
   "execution_count": 23,
   "metadata": {},
   "outputs": [
    {
     "name": "stdout",
     "output_type": "stream",
     "text": [
      "['Physics', 'Maths', 'History', 'Geography', 'Chemistry', 'Biology']\n"
     ]
    }
   ],
   "source": [
    "courses = [\"History\", \"Geography\", \"Maths\", \"Physics\", \"Chemistry\", \"Biology\"]\n",
    "courses.sort(reverse=True)\n",
    "print(courses)"
   ]
  },
  {
   "cell_type": "code",
   "execution_count": 24,
   "metadata": {},
   "outputs": [
    {
     "name": "stdout",
     "output_type": "stream",
     "text": [
      "['Maths', 'Geography', 'Physics', 'Chemistry', 'History', 'Biology']\n"
     ]
    }
   ],
   "source": [
    "courses = [\"History\", \"Geography\", \"Maths\", \"Physics\", \"Chemistry\", \"Biology\"]\n",
    "courses.sort(key=lambda x: x[1])\n",
    "print(courses)"
   ]
  },
  {
   "cell_type": "code",
   "execution_count": 26,
   "metadata": {},
   "outputs": [
    {
     "name": "stdout",
     "output_type": "stream",
     "text": [
      "['Biology', 'Chemistry', 'Geography', 'History', 'Maths', 'Physics']\n",
      "['History', 'Geography', 'Maths', 'Physics', 'Chemistry', 'Biology']\n"
     ]
    }
   ],
   "source": [
    "courses = [\"History\", \"Geography\", \"Maths\", \"Physics\", \"Chemistry\", \"Biology\"]\n",
    "sorted_courses = sorted(courses)\n",
    "print(sorted_courses)\n",
    "print(courses)"
   ]
  },
  {
   "cell_type": "code",
   "execution_count": 28,
   "metadata": {},
   "outputs": [
    {
     "name": "stdout",
     "output_type": "stream",
     "text": [
      "0\n"
     ]
    }
   ],
   "source": [
    "courses = [\"History\", \"Geography\", \"Maths\", \"Physics\", \"Chemistry\", \"Biology\"]\n",
    "print(courses.index('History'))"
   ]
  },
  {
   "cell_type": "code",
   "execution_count": 30,
   "metadata": {},
   "outputs": [
    {
     "name": "stdout",
     "output_type": "stream",
     "text": [
      "1 History\n",
      "2 Geography\n",
      "3 Maths\n",
      "4 Physics\n",
      "5 Chemistry\n",
      "6 Biology\n"
     ]
    }
   ],
   "source": [
    "courses = [\"History\", \"Geography\", \"Maths\", \"Physics\", \"Chemistry\", \"Biology\"]\n",
    "for index,course in enumerate(courses,start=1):\n",
    "    print(index,course)"
   ]
  },
  {
   "cell_type": "code",
   "execution_count": 32,
   "metadata": {},
   "outputs": [
    {
     "name": "stdout",
     "output_type": "stream",
     "text": [
      "History_Geography_Maths_Physics_Chemistry_Biology\n",
      "['History', 'Geography', 'Maths', 'Physics', 'Chemistry', 'Biology']\n"
     ]
    }
   ],
   "source": [
    "courses = [\"History\", \"Geography\", \"Maths\", \"Physics\", \"Chemistry\", \"Biology\"]\n",
    "agg_courses = '_'.join(courses)\n",
    "print(agg_courses)\n",
    "print(agg_courses.split('_'))"
   ]
  },
  {
   "cell_type": "code",
   "execution_count": 36,
   "metadata": {},
   "outputs": [
    {
     "name": "stdout",
     "output_type": "stream",
     "text": [
      "['History', 'Geography', 'Maths', 'Physics', 'Chemistry', 'Biology']\n",
      "['History', 'Geography', 'Maths', 'Physics', 'Chemistry', 'Biology']\n",
      "['Engineering', 'Geography', 'Maths', 'Physics', 'Chemistry', 'Biology']\n",
      "['Engineering', 'Geography', 'Maths', 'Physics', 'Chemistry', 'Biology']\n",
      "['Engineering', 'Geography', 'Maths', 'Physics', 'Chemistry', 'Biology']\n",
      "['ECE', 'Geography', 'Maths', 'Physics', 'Chemistry', 'Biology']\n",
      "['Engineering', 'Geography', 'Maths', 'Physics', 'Chemistry', 'Biology']\n",
      "['Nano', 'Geography', 'Maths', 'Physics', 'Chemistry', 'Biology']\n"
     ]
    }
   ],
   "source": [
    "import copy\n",
    "#mutable\n",
    "courses = [\"History\", \"Geography\", \"Maths\", \"Physics\", \"Chemistry\", \"Biology\"]\n",
    "courses_cpy = courses\n",
    "\n",
    "print(courses)\n",
    "print(courses_cpy)\n",
    "\n",
    "courses_cpy[0] = 'Engineering'\n",
    "\n",
    "print(courses)\n",
    "print(courses_cpy)\n",
    "\n",
    "courses_deep_cpy = copy.deepcopy(courses)\n",
    "courses_deep_cpy[0] = 'ECE'\n",
    "\n",
    "print(courses)\n",
    "print(courses_deep_cpy)\n",
    "\n",
    "courses_deep_cpy_slice = courses[:]\n",
    "courses_deep_cpy_slice[0] = 'Nano'\n",
    "\n",
    "print(courses)\n",
    "print(courses_deep_cpy_slice)\n"
   ]
  },
  {
   "cell_type": "code",
   "execution_count": 38,
   "metadata": {},
   "outputs": [
    {
     "name": "stdout",
     "output_type": "stream",
     "text": [
      "('History', 'Geography', 'Maths', 'Physics', 'Chemistry', 'Biology')\n",
      "('History', 'Geography', 'Maths', 'Physics', 'Chemistry', 'Biology')\n"
     ]
    },
    {
     "ename": "TypeError",
     "evalue": "'tuple' object does not support item assignment",
     "output_type": "error",
     "traceback": [
      "\u001b[1;31m---------------------------------------------------------------------------\u001b[0m",
      "\u001b[1;31mTypeError\u001b[0m                                 Traceback (most recent call last)",
      "\u001b[1;32me:\\Programming_Skills\\Python_Handson\\Python_CoreySchafer\\notebook_1.ipynb Cell 22\u001b[0m in \u001b[0;36m<cell line: 8>\u001b[1;34m()\u001b[0m\n\u001b[0;32m      <a href='vscode-notebook-cell:/e%3A/Programming_Skills/Python_Handson/Python_CoreySchafer/notebook_1.ipynb#ch0000022?line=4'>5</a>\u001b[0m \u001b[39mprint\u001b[39m(courses)\n\u001b[0;32m      <a href='vscode-notebook-cell:/e%3A/Programming_Skills/Python_Handson/Python_CoreySchafer/notebook_1.ipynb#ch0000022?line=5'>6</a>\u001b[0m \u001b[39mprint\u001b[39m(courses_cpy)\n\u001b[1;32m----> <a href='vscode-notebook-cell:/e%3A/Programming_Skills/Python_Handson/Python_CoreySchafer/notebook_1.ipynb#ch0000022?line=7'>8</a>\u001b[0m courses_cpy[\u001b[39m0\u001b[39m] \u001b[39m=\u001b[39m \u001b[39m'\u001b[39m\u001b[39mEngineering\u001b[39m\u001b[39m'\u001b[39m\n\u001b[0;32m     <a href='vscode-notebook-cell:/e%3A/Programming_Skills/Python_Handson/Python_CoreySchafer/notebook_1.ipynb#ch0000022?line=9'>10</a>\u001b[0m \u001b[39mprint\u001b[39m(courses)\n\u001b[0;32m     <a href='vscode-notebook-cell:/e%3A/Programming_Skills/Python_Handson/Python_CoreySchafer/notebook_1.ipynb#ch0000022?line=10'>11</a>\u001b[0m \u001b[39mprint\u001b[39m(courses_cpy)\n",
      "\u001b[1;31mTypeError\u001b[0m: 'tuple' object does not support item assignment"
     ]
    }
   ],
   "source": [
    "#immutable\n",
    "courses = (\"History\", \"Geography\", \"Maths\", \"Physics\", \"Chemistry\", \"Biology\")\n",
    "courses_cpy = courses\n",
    "\n",
    "print(courses)\n",
    "print(courses_cpy)\n",
    "\n",
    "courses_cpy[0] = 'Engineering'\n",
    "\n",
    "print(courses)\n",
    "print(courses_cpy)\n",
    "\n"
   ]
  },
  {
   "cell_type": "code",
   "execution_count": 12,
   "metadata": {},
   "outputs": [
    {
     "name": "stdout",
     "output_type": "stream",
     "text": [
      "{0, 1, 2, 3, 4, 5}\n",
      "{3, 4, 5, 6, 7}\n",
      "6 5\n"
     ]
    }
   ],
   "source": [
    "#set\n",
    "set1 = set()\n",
    "set2 = set()\n",
    "for i in range(6):\n",
    "    set1.add(i)\n",
    "for j in range(3,8):\n",
    "    set2.add(j)\n",
    "print(set1)\n",
    "print(set2)\n",
    "print(len(set1), len(set2))"
   ]
  },
  {
   "cell_type": "code",
   "execution_count": 15,
   "metadata": {},
   "outputs": [
    {
     "name": "stdout",
     "output_type": "stream",
     "text": [
      "union :  {0, 1, 2, 3, 4, 5, 6, 7}\n",
      "intersection :  {3, 4, 5}\n",
      "superset :  False\n",
      "subset :  False\n",
      "disjoint :  False\n",
      "difference :  {6, 7}\n",
      "exclusive :  {0, 1, 2, 6, 7}\n"
     ]
    }
   ],
   "source": [
    "#union\n",
    "print(\"union : \",set1 | set2)\n",
    "#intersection\n",
    "print(\"intersection : \",set1 & set2)\n",
    "#superset\n",
    "print(\"superset : \",set1>set2)\n",
    "#subset\n",
    "print(\"subset : \",set1<set2)\n",
    "#disjoint\n",
    "print(\"disjoint : \",set1.isdisjoint(set2))\n",
    "#difference\n",
    "print(\"difference : \",set2-set1)\n",
    "print(\"exclusive : \",(set1|set2) - (set1&set2))"
   ]
  },
  {
   "cell_type": "code",
   "execution_count": 16,
   "metadata": {},
   "outputs": [
    {
     "name": "stdout",
     "output_type": "stream",
     "text": [
      "Not contains !\n"
     ]
    }
   ],
   "source": [
    "group = [1,2,3,4,5,6,7,8]\n",
    "check = [20,11]\n",
    "group_set = set(group)\n",
    "check_set  = set(check)\n",
    "if not group_set.isdisjoint(check_set):\n",
    "    print(\"Yes, contains !\")\n",
    "else:\n",
    "    print(\"Not contains !\")"
   ]
  },
  {
   "cell_type": "code",
   "execution_count": 17,
   "metadata": {},
   "outputs": [
    {
     "name": "stdout",
     "output_type": "stream",
     "text": [
      "Yes, contains !\n"
     ]
    }
   ],
   "source": [
    "group = [1,2,3,4,5,6,7,8]\n",
    "check = [2,11]\n",
    "if (set(group)&set(check)):\n",
    "    print(\"Yes, contains !\")\n",
    "else:\n",
    "    print(\"Not contains !\")"
   ]
  },
  {
   "cell_type": "markdown",
   "metadata": {},
   "source": [
    "## Dictionary"
   ]
  },
  {
   "cell_type": "code",
   "execution_count": 29,
   "metadata": {},
   "outputs": [
    {
     "name": "stdout",
     "output_type": "stream",
     "text": [
      "85214796\n",
      "{'name': 'Raj', 'age': 26, 'courses': ['Maths', 'Nano'], 'phone': 85214796}\n",
      "{'name': 'Jane', 'age': 22, 'courses': None, 'phone': 5858}\n",
      "{'name': 'Jane', 'courses': None, 'phone': 5858}\n",
      "Jane\n",
      "{'courses': None, 'phone': 5858}\n",
      "2\n",
      "dict_keys(['courses', 'phone'])\n",
      "dict_values([None, 5858])\n",
      "dict_items([('courses', None), ('phone', 5858)])\n"
     ]
    }
   ],
   "source": [
    "student = {'name': 'Arunabha', 'age' : 26, 'courses' : ['Maths', 'Nano']}\n",
    "student['phone'] = 85214796\n",
    "print(student.get('phone','Not found !'))\n",
    "student['name'] = 'Raj'\n",
    "print(student)\n",
    "student.update({'name':'Jane','age':22,'phone':5858, 'courses':None})\n",
    "print(student)\n",
    "del student['age']\n",
    "print(student)\n",
    "print(student.pop('name'))\n",
    "print(student)\n",
    "print(len(student))\n",
    "print(student.keys())\n",
    "print(student.values())\n",
    "print(student.items())\n",
    "\n"
   ]
  },
  {
   "cell_type": "code",
   "execution_count": 32,
   "metadata": {},
   "outputs": [
    {
     "name": "stdout",
     "output_type": "stream",
     "text": [
      "name  :  Arunabha\n",
      "age  :  26\n",
      "courses  :  ['Maths', 'Nano']\n"
     ]
    }
   ],
   "source": [
    "student = {'name': 'Arunabha', 'age' : 26, 'courses' : ['Maths', 'Nano']}\n",
    "for key,value in student.items():\n",
    "    print(key,' : ',value)"
   ]
  },
  {
   "cell_type": "markdown",
   "metadata": {},
   "source": [
    "## Conditionals & Booleans"
   ]
  },
  {
   "cell_type": "code",
   "execution_count": 33,
   "metadata": {},
   "outputs": [
    {
     "name": "stdout",
     "output_type": "stream",
     "text": [
      "1834284121536\n",
      "1834284121536\n",
      "True\n",
      "True\n"
     ]
    }
   ],
   "source": [
    "a = [1,2,3]\n",
    "b = a\n",
    "\n",
    "print(id(a))\n",
    "print(id(b))\n",
    "\n",
    "print(a == b)\n",
    "print(a is b)"
   ]
  },
  {
   "cell_type": "code",
   "execution_count": 34,
   "metadata": {},
   "outputs": [
    {
     "name": "stdout",
     "output_type": "stream",
     "text": [
      "1834284106240\n",
      "1834284126656\n",
      "True\n",
      "False\n"
     ]
    }
   ],
   "source": [
    "a = [1,2,3]\n",
    "b = [1,2,3]\n",
    "\n",
    "print(id(a))\n",
    "print(id(b))\n",
    "\n",
    "print(a == b)\n",
    "print(a is b)"
   ]
  },
  {
   "cell_type": "code",
   "execution_count": 35,
   "metadata": {},
   "outputs": [
    {
     "name": "stdout",
     "output_type": "stream",
     "text": [
      "1834284132672\n",
      "1834284126016\n",
      "True\n",
      "False\n"
     ]
    }
   ],
   "source": [
    "a = [1,2,3]\n",
    "b = a[:]\n",
    "\n",
    "print(id(a))\n",
    "print(id(b))\n",
    "\n",
    "print(a == b)\n",
    "print(a is b)"
   ]
  },
  {
   "cell_type": "markdown",
   "metadata": {},
   "source": [
    "#### False values :\n",
    "* False\n",
    "* None\n",
    "* Zero of any numeric type\n",
    "* Any empty sequence. ```eg: '',[],()```\n",
    "* Any empty mapping. ```eg: {}```\n"
   ]
  },
  {
   "cell_type": "markdown",
   "metadata": {},
   "source": [
    "## Loops & Iterations"
   ]
  },
  {
   "cell_type": "code",
   "execution_count": 2,
   "metadata": {},
   "outputs": [
    {
     "name": "stdout",
     "output_type": "stream",
     "text": [
      "1\n",
      "2\n",
      "Found 3\n",
      "4\n",
      "5\n",
      "6\n"
     ]
    }
   ],
   "source": [
    "nums = [1,2,3,4,5,6]\n",
    "for i in nums:\n",
    "    if i == 3:\n",
    "        print(f'Found {i}')\n",
    "        continue\n",
    "    print(i)"
   ]
  },
  {
   "cell_type": "code",
   "execution_count": 10,
   "metadata": {},
   "outputs": [
    {
     "name": "stdout",
     "output_type": "stream",
     "text": [
      "0\n",
      "-1\n",
      "-2\n",
      "-3\n",
      "-4\n",
      "-5\n"
     ]
    }
   ],
   "source": [
    "for i in reversed(range(-5,1)):\n",
    "    print(i)"
   ]
  },
  {
   "cell_type": "markdown",
   "metadata": {},
   "source": [
    "## Functions"
   ]
  },
  {
   "cell_type": "code",
   "execution_count": 36,
   "metadata": {},
   "outputs": [
    {
     "name": "stdout",
     "output_type": "stream",
     "text": [
      "('Arunabha', 'Ghoshal')\n",
      "{'age': 26, 'house': 'kamalalaya'}\n"
     ]
    }
   ],
   "source": [
    "def student_info(*args, **kwargs):\n",
    "    print(args)\n",
    "    print(kwargs)\n",
    "\n",
    "student_info('Arunabha','Ghoshal',age=26,house='kamalalaya')"
   ]
  },
  {
   "cell_type": "code",
   "execution_count": 45,
   "metadata": {},
   "outputs": [
    {
     "name": "stdout",
     "output_type": "stream",
     "text": [
      "('Arunabha', ['Ron', 'Ghoshal'])\n",
      "{'age': 26, 'house': 'kamalalaya'}\n"
     ]
    }
   ],
   "source": [
    "def student_info(*args, **kwargs):\n",
    "    print(args)\n",
    "    print(kwargs)\n",
    "\n",
    "l1 = ['Arunabha',['Ron','Ghoshal']]\n",
    "d1 = {'age': 26, 'house': 'kamalalaya'}\n",
    "student_info(*l1,**d1)"
   ]
  },
  {
   "cell_type": "code",
   "execution_count": null,
   "metadata": {},
   "outputs": [],
   "source": []
  }
 ],
 "metadata": {
  "kernelspec": {
   "display_name": "Python 3.10.2 64-bit",
   "language": "python",
   "name": "python3"
  },
  "language_info": {
   "codemirror_mode": {
    "name": "ipython",
    "version": 3
   },
   "file_extension": ".py",
   "mimetype": "text/x-python",
   "name": "python",
   "nbconvert_exporter": "python",
   "pygments_lexer": "ipython3",
   "version": "3.10.2"
  },
  "orig_nbformat": 4,
  "vscode": {
   "interpreter": {
    "hash": "b6fecb9821137fb1eeea2161f49225dfc2219e02bf5341a9f2c882710ff7fd7e"
   }
  }
 },
 "nbformat": 4,
 "nbformat_minor": 2
}

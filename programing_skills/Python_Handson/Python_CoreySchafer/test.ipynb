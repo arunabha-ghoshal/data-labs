{
 "cells": [
  {
   "cell_type": "code",
   "execution_count": 10,
   "metadata": {},
   "outputs": [],
   "source": [
    "def exec(nums):\n",
    "    first = nums[0]\n",
    "    last = nums[-1]\n",
    "    res = []\n",
    "    for i in range(first, last+1):\n",
    "        if i not in nums:\n",
    "            res.append(i)\n",
    "    return res"
   ]
  },
  {
   "cell_type": "code",
   "execution_count": 11,
   "metadata": {},
   "outputs": [
    {
     "data": {
      "text/plain": [
       "[4]"
      ]
     },
     "execution_count": 11,
     "metadata": {},
     "output_type": "execute_result"
    }
   ],
   "source": [
    "nums = [1,2,3,5]\n",
    "exec(nums)"
   ]
  },
  {
   "cell_type": "code",
   "execution_count": 9,
   "metadata": {},
   "outputs": [
    {
     "name": "stdout",
     "output_type": "stream",
     "text": [
      "{'c': [1, 15, 87], 'b': [9, 10, 1], 'a': [49, 89, 30]}\n"
     ]
    }
   ],
   "source": [
    "a = {'a':[49,89,30], 'b':[9,10,1], 'c':[1,15,87] }\n",
    "\n",
    "temp = []\n",
    "for i in a:\n",
    "    if not temp:\n",
    "        temp.append(i)\n",
    "    else:\n",
    "        if a[temp[-1]][1]>a[i][1]:\n",
    "            temp.insert(0,i)\n",
    "        elif a[temp[-1][1]]<a[i][1]:\n",
    "            temp.append(i)\n",
    "res = {}\n",
    "for j in temp:\n",
    "    res[j] = a[j]\n",
    "print(res)"
   ]
  },
  {
   "cell_type": "code",
   "execution_count": 7,
   "metadata": {},
   "outputs": [
    {
     "data": {
      "text/plain": [
       "True"
      ]
     },
     "execution_count": 7,
     "metadata": {},
     "output_type": "execute_result"
    }
   ],
   "source": [
    "a = -float('inf')\n"
   ]
  },
  {
   "cell_type": "code",
   "execution_count": 1,
   "metadata": {},
   "outputs": [],
   "source": [
    "old_print = print\n",
    "def new_print(*args,**kwargs):\n",
    "    old_print('t1',*args,**kwargs)\n",
    "print = new_print"
   ]
  },
  {
   "cell_type": "code",
   "execution_count": 4,
   "metadata": {},
   "outputs": [
    {
     "name": "stdout",
     "output_type": "stream",
     "text": [
      "t1 7\n",
      "t1 88 54 78 55\n"
     ]
    }
   ],
   "source": [
    "print(7)\n",
    "print(88,54,78,55)"
   ]
  },
  {
   "cell_type": "code",
   "execution_count": 1,
   "metadata": {},
   "outputs": [
    {
     "data": {
      "text/plain": [
       "1000"
      ]
     },
     "execution_count": 1,
     "metadata": {},
     "output_type": "execute_result"
    }
   ],
   "source": [
    "a = [0] * 1000\n",
    "len(a)"
   ]
  },
  {
   "cell_type": "code",
   "execution_count": 3,
   "metadata": {},
   "outputs": [],
   "source": [
    "def find_second_max(input1):\n",
    "    if len(set(input1)) == 1:\n",
    "        print(-1)\n",
    "    else:\n",
    "        _res = sorted(list(set(input1)),reverse=True)\n",
    "        print(_res[1])"
   ]
  },
  {
   "cell_type": "code",
   "execution_count": 4,
   "metadata": {},
   "outputs": [
    {
     "name": "stdout",
     "output_type": "stream",
     "text": [
      "2\n"
     ]
    }
   ],
   "source": [
    "find_second_max(input1 = [3,3,2,1,1,2])"
   ]
  },
  {
   "cell_type": "code",
   "execution_count": 12,
   "metadata": {},
   "outputs": [],
   "source": [
    "def find_sec_max(input1):\n",
    "    # data = []\n",
    "    # for i in input1:\n",
    "    #     if i not in data:\n",
    "    #         data.append(i)\n",
    "    # if len(data) == 1:\n",
    "    #     print(-1)\n",
    "    # else:\n",
    "    max1 = max2 = -float('inf')\n",
    "    for i in input1:\n",
    "        if i>max1:\n",
    "            max1=i\n",
    "        else:\n",
    "            if i>max2:\n",
    "                max2=i\n",
    "    if max2 == max1:\n",
    "        print(-1)\n",
    "    else:\n",
    "        print(max2)"
   ]
  },
  {
   "cell_type": "code",
   "execution_count": 15,
   "metadata": {},
   "outputs": [
    {
     "name": "stdout",
     "output_type": "stream",
     "text": [
      "2\n"
     ]
    }
   ],
   "source": [
    "find_second_max(input1 = [3,3,1,1,2,2])"
   ]
  },
  {
   "cell_type": "code",
   "execution_count": null,
   "metadata": {},
   "outputs": [],
   "source": []
  }
 ],
 "metadata": {
  "kernelspec": {
   "display_name": "Python 3.10.2 64-bit",
   "language": "python",
   "name": "python3"
  },
  "language_info": {
   "codemirror_mode": {
    "name": "ipython",
    "version": 3
   },
   "file_extension": ".py",
   "mimetype": "text/x-python",
   "name": "python",
   "nbconvert_exporter": "python",
   "pygments_lexer": "ipython3",
   "version": "3.10.2"
  },
  "orig_nbformat": 4,
  "vscode": {
   "interpreter": {
    "hash": "b6fecb9821137fb1eeea2161f49225dfc2219e02bf5341a9f2c882710ff7fd7e"
   }
  }
 },
 "nbformat": 4,
 "nbformat_minor": 2
}

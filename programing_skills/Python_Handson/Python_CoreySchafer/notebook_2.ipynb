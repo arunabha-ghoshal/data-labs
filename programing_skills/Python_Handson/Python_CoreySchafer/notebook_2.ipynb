{
 "cells": [
  {
   "cell_type": "markdown",
   "metadata": {},
   "source": [
    "## Variable Scope"
   ]
  },
  {
   "cell_type": "markdown",
   "metadata": {},
   "source": [
    "#### LEGB\n",
    "* Local\n",
    "* Enclosing\n",
    "* Global\n",
    "* Built-n"
   ]
  },
  {
   "cell_type": "code",
   "execution_count": 1,
   "metadata": {},
   "outputs": [
    {
     "name": "stdout",
     "output_type": "stream",
     "text": [
      "local x\n",
      "global x\n"
     ]
    }
   ],
   "source": [
    "x = 'global x'\n",
    "def func():\n",
    "    x = 'local x'\n",
    "    print(x)\n",
    "func()\n",
    "print(x)"
   ]
  },
  {
   "cell_type": "code",
   "execution_count": 2,
   "metadata": {},
   "outputs": [
    {
     "name": "stdout",
     "output_type": "stream",
     "text": [
      "local x\n",
      "local x\n"
     ]
    }
   ],
   "source": [
    "x = 'global x'\n",
    "def func():\n",
    "    global x\n",
    "    x = 'local x'\n",
    "    print(x)\n",
    "func()\n",
    "print(x)"
   ]
  },
  {
   "cell_type": "code",
   "execution_count": 3,
   "metadata": {},
   "outputs": [
    {
     "name": "stdout",
     "output_type": "stream",
     "text": [
      "outer_x\n",
      "outer_x\n"
     ]
    }
   ],
   "source": [
    "def outer():\n",
    "    x = 'outer_x'\n",
    "    def inner():\n",
    "        print(x)\n",
    "    inner()\n",
    "    print(x)\n",
    "outer()"
   ]
  },
  {
   "cell_type": "code",
   "execution_count": 73,
   "metadata": {},
   "outputs": [
    {
     "name": "stdout",
     "output_type": "stream",
     "text": [
      "y_inner\n"
     ]
    },
    {
     "ename": "NameError",
     "evalue": "name 'y' is not defined",
     "output_type": "error",
     "traceback": [
      "\u001b[1;31m---------------------------------------------------------------------------\u001b[0m",
      "\u001b[1;31mNameError\u001b[0m                                 Traceback (most recent call last)",
      "\u001b[1;32me:\\Programming_Skills\\Python_Handson\\Python_CoreySchafer\\notebook_2.ipynb Cell 6\u001b[0m in \u001b[0;36m<cell line: 8>\u001b[1;34m()\u001b[0m\n\u001b[0;32m      <a href='vscode-notebook-cell:/e%3A/Programming_Skills/Python_Handson/Python_CoreySchafer/notebook_2.ipynb#ch0000026?line=5'>6</a>\u001b[0m     inner()\n\u001b[0;32m      <a href='vscode-notebook-cell:/e%3A/Programming_Skills/Python_Handson/Python_CoreySchafer/notebook_2.ipynb#ch0000026?line=6'>7</a>\u001b[0m     \u001b[39mprint\u001b[39m(y)\n\u001b[1;32m----> <a href='vscode-notebook-cell:/e%3A/Programming_Skills/Python_Handson/Python_CoreySchafer/notebook_2.ipynb#ch0000026?line=7'>8</a>\u001b[0m outer()\n",
      "\u001b[1;32me:\\Programming_Skills\\Python_Handson\\Python_CoreySchafer\\notebook_2.ipynb Cell 6\u001b[0m in \u001b[0;36mouter\u001b[1;34m()\u001b[0m\n\u001b[0;32m      <a href='vscode-notebook-cell:/e%3A/Programming_Skills/Python_Handson/Python_CoreySchafer/notebook_2.ipynb#ch0000026?line=4'>5</a>\u001b[0m     \u001b[39mprint\u001b[39m(y)\n\u001b[0;32m      <a href='vscode-notebook-cell:/e%3A/Programming_Skills/Python_Handson/Python_CoreySchafer/notebook_2.ipynb#ch0000026?line=5'>6</a>\u001b[0m inner()\n\u001b[1;32m----> <a href='vscode-notebook-cell:/e%3A/Programming_Skills/Python_Handson/Python_CoreySchafer/notebook_2.ipynb#ch0000026?line=6'>7</a>\u001b[0m \u001b[39mprint\u001b[39m(y)\n",
      "\u001b[1;31mNameError\u001b[0m: name 'y' is not defined"
     ]
    }
   ],
   "source": [
    "def outer():\n",
    "    x = 'outer_x'\n",
    "    def inner():\n",
    "        y = 'y_inner'\n",
    "        print(y)\n",
    "    inner()\n",
    "    print(y)\n",
    "outer()"
   ]
  },
  {
   "cell_type": "code",
   "execution_count": 71,
   "metadata": {},
   "outputs": [
    {
     "name": "stdout",
     "output_type": "stream",
     "text": [
      "inner_x\n",
      "inner_x\n",
      "global_x\n"
     ]
    }
   ],
   "source": [
    "x = 'global_x'\n",
    "def outer():\n",
    "    x = 'outer_x'\n",
    "    def inner():\n",
    "        nonlocal x\n",
    "        x = 'inner_x'\n",
    "        print(x)\n",
    "    inner()\n",
    "    print(x)\n",
    "outer()\n",
    "print(x)"
   ]
  },
  {
   "cell_type": "code",
   "execution_count": 8,
   "metadata": {},
   "outputs": [
    {
     "name": "stdout",
     "output_type": "stream",
     "text": [
      "global_x\n",
      "global_x\n",
      "global_x\n"
     ]
    }
   ],
   "source": [
    "x = 'global_x'\n",
    "def outer():\n",
    "    #x = 'outer_x'\n",
    "    def inner():\n",
    "        #nonlocal x\n",
    "        #x = 'inner_x'\n",
    "        print(x)\n",
    "    inner()\n",
    "    print(x)\n",
    "outer()\n",
    "print(x)"
   ]
  },
  {
   "cell_type": "markdown",
   "metadata": {},
   "source": [
    "## Slicing list and strings\n",
    "\n",
    "```list[start:end:step]```"
   ]
  },
  {
   "cell_type": "code",
   "execution_count": 17,
   "metadata": {},
   "outputs": [
    {
     "name": "stdout",
     "output_type": "stream",
     "text": [
      "[0, 1, 2, 3, 4, 5, 6, 7, 8, 9]\n",
      "[1, 2, 3, 4, 5, 6]\n",
      "[0, 1, 2, 3, 4, 5, 6, 7, 8]\n",
      "[0, 3, 6, 9]\n",
      "[1, 3, 5, 7]\n",
      "[9, 7, 5, 3]\n"
     ]
    }
   ],
   "source": [
    "my_list = [0, 1, 2, 3, 4, 5, 6, 7, 8, 9]\n",
    "#          0, 1, 2, 3, 4, 5, 6, 7, 8, 9\n",
    "#        -10,-9,-8,-7,-6,-5,-4,-3,-2,-1\n",
    "\n",
    "print(my_list[:])\n",
    "print(my_list[-9:7])\n",
    "print(my_list[:-1])\n",
    "print(my_list[::3])\n",
    "print(my_list[-9:9:2])\n",
    "print(my_list[9:-9:-2])"
   ]
  },
  {
   "cell_type": "code",
   "execution_count": 19,
   "metadata": {},
   "outputs": [
    {
     "name": "stdout",
     "output_type": "stream",
     "text": [
      "lahsohG ahbanurA\n"
     ]
    }
   ],
   "source": [
    "name = 'Arunabha Ghoshal'\n",
    "print(name[::-1])"
   ]
  },
  {
   "cell_type": "markdown",
   "metadata": {},
   "source": [
    "## Comprehensions"
   ]
  },
  {
   "cell_type": "code",
   "execution_count": 25,
   "metadata": {},
   "outputs": [
    {
     "name": "stdout",
     "output_type": "stream",
     "text": [
      "[1, 4, 9, 16, 25, 36, 49, 64, 81]\n",
      "[1, 4, 27, 256, 3125, 46656, 823543, 16777216, 387420489]\n"
     ]
    }
   ],
   "source": [
    "nums = [1,2,3,4,5,6,7,8,9]\n",
    "\n",
    "my_list = [n*n for n in nums]\n",
    "print(my_list)\n",
    "\n",
    "l_list = list(map(lambda n: n**n,nums))\n",
    "print(l_list)"
   ]
  },
  {
   "cell_type": "code",
   "execution_count": 27,
   "metadata": {},
   "outputs": [
    {
     "name": "stdout",
     "output_type": "stream",
     "text": [
      "[2, 4, 6, 8]\n",
      "[2, 4, 6, 8]\n"
     ]
    }
   ],
   "source": [
    "nums = [1,2,3,4,5,6,7,8,9]\n",
    "\n",
    "even_list = [n for n in nums if n%2==0]\n",
    "print(even_list)\n",
    "\n",
    "#using filter + list\n",
    "even_list_lambda = filter(lambda n: n%2==0,nums)\n",
    "print(even_list)"
   ]
  },
  {
   "cell_type": "code",
   "execution_count": 29,
   "metadata": {},
   "outputs": [
    {
     "name": "stdout",
     "output_type": "stream",
     "text": [
      "[('a', 0), ('a', 1), ('a', 2), ('a', 3), ('b', 0), ('b', 1), ('b', 2), ('b', 3), ('c', 0), ('c', 1), ('c', 2), ('c', 3), ('d', 0), ('d', 1), ('d', 2), ('d', 3)]\n"
     ]
    }
   ],
   "source": [
    "my_list = [(letter,number) for letter in 'abcd' for number in range(4)]\n",
    "print(my_list)"
   ]
  },
  {
   "cell_type": "code",
   "execution_count": 40,
   "metadata": {},
   "outputs": [
    {
     "name": "stdout",
     "output_type": "stream",
     "text": [
      "[('Bruce', 'Batman'), ('Clark', 'Superman'), ('Peter', 'Spiderman'), ('Logan', 'Wolverine'), ('Wade', 'Deadpool')]\n",
      "{'Bruce': 'Batman', 'Clark': 'Superman', 'Peter': 'Spiderman', 'Logan': 'Wolverine', 'Wade': 'Deadpool'}\n",
      "{'Bruce': 'Batman', 'Clark': 'Superman', 'Logan': 'Wolverine', 'Wade': 'Deadpool'}\n"
     ]
    }
   ],
   "source": [
    "#list comprehension\n",
    "names = ['Bruce', 'Clark', 'Peter', 'Logan', 'Wade']\n",
    "heros = ['Batman', 'Superman', 'Spiderman', 'Wolverine', 'Deadpool']\n",
    "print(list(zip(names,heros)))\n",
    "\n",
    "# my_dict = {}\n",
    "# for name, hero in zip(names,heros):\n",
    "#     my_dict[hero] = name\n",
    "# print(my_dict)\n",
    "\n",
    "#dictionary comprehension\n",
    "my_dict = {name:hero for name,hero in zip(names,heros)}\n",
    "print(my_dict)\n",
    "\n",
    "my_dict = {name:hero for name,hero in zip(names,heros) if name != 'Peter'}\n",
    "print(my_dict)"
   ]
  },
  {
   "cell_type": "code",
   "execution_count": 43,
   "metadata": {},
   "outputs": [
    {
     "name": "stdout",
     "output_type": "stream",
     "text": [
      "{0, 1, 2, 3, 4, 5, 6, 7, 8, 9}\n"
     ]
    }
   ],
   "source": [
    "#set comprehension\n",
    "nums = [0,0,1,1,1,1,2,2,3,5,6,4,5,7,8,9,6,2,1,4,5]\n",
    "my_set = {num for num in nums}\n",
    "print(my_set)"
   ]
  },
  {
   "cell_type": "code",
   "execution_count": 46,
   "metadata": {},
   "outputs": [
    {
     "name": "stdout",
     "output_type": "stream",
     "text": [
      "0\n",
      "1\n"
     ]
    }
   ],
   "source": [
    "#generator comprehension\n",
    "nums = [0, 1, 2, 3, 4, 5, 6, 7, 8, 9]\n",
    "my_gen = (n*n for n in nums)\n",
    "print(next(my_gen))\n",
    "print(next(my_gen))"
   ]
  },
  {
   "cell_type": "code",
   "execution_count": 48,
   "metadata": {},
   "outputs": [
    {
     "name": "stdout",
     "output_type": "stream",
     "text": [
      "0\n",
      "1\n",
      "4\n",
      "9\n",
      "16\n",
      "25\n",
      "36\n",
      "49\n",
      "64\n",
      "81\n"
     ]
    }
   ],
   "source": [
    "nums = [0, 1, 2, 3, 4, 5, 6, 7, 8, 9]\n",
    "my_gen = (n*n for n in nums)\n",
    "for i in my_gen:\n",
    "    print(i)"
   ]
  },
  {
   "cell_type": "markdown",
   "metadata": {},
   "source": [
    "## Sorting Lists, Tuples, and Objects"
   ]
  },
  {
   "cell_type": "code",
   "execution_count": 55,
   "metadata": {},
   "outputs": [
    {
     "name": "stdout",
     "output_type": "stream",
     "text": [
      "[0, 1, -3, -4, -5, 5, -6, 8]\n"
     ]
    }
   ],
   "source": [
    "li = [-6,-5,-4,-3,0,1,5,8]\n",
    "li_sorted = sorted(li,key=abs)\n",
    "print(li_sorted)"
   ]
  },
  {
   "cell_type": "code",
   "execution_count": 56,
   "metadata": {},
   "outputs": [
    {
     "name": "stdout",
     "output_type": "stream",
     "text": [
      "[0, 1, -3, -4, -5, 5, -6, 8]\n"
     ]
    }
   ],
   "source": [
    "li = [-6,-5,-4,-3,0,1,5,8]\n",
    "li.sort(key=abs)\n",
    "print(li)"
   ]
  },
  {
   "cell_type": "code",
   "execution_count": 61,
   "metadata": {},
   "outputs": [
    {
     "name": "stdout",
     "output_type": "stream",
     "text": [
      "[('Wade', 'Deadpool'), ('Peter', 'Spiderman'), ('Logan', 'Wolverine'), ('Clark', 'Superman'), ('Bruce', 'Batman')]\n"
     ]
    }
   ],
   "source": [
    "di = {'Bruce': 'Batman', 'Clark': 'Superman', 'Peter': 'Spiderman', 'Logan': 'Wolverine', 'Wade': 'Deadpool'}\n",
    "print(sorted(di.items(),reverse=True))"
   ]
  },
  {
   "cell_type": "code",
   "execution_count": 62,
   "metadata": {},
   "outputs": [
    {
     "name": "stdout",
     "output_type": "stream",
     "text": [
      "[(Arun,26,$10), (Raj,26,$15), (Mainak,27,$24)]\n"
     ]
    }
   ],
   "source": [
    "class Employee():\n",
    "    def __init__(self,name,age,salary):\n",
    "        self.name = name\n",
    "        self.age = age\n",
    "        self.salary = salary\n",
    "    def __repr__(self):\n",
    "        return '({},{},${})'.format(self.name,self.age,self.salary)\n",
    "\n",
    "e1 = Employee('Arun',26,10)\n",
    "e2 = Employee('Raj',26,15)\n",
    "e3 = Employee('Mainak',27,24)\n",
    "\n",
    "employees = [e1,e2,e3]\n",
    "print(employees)"
   ]
  },
  {
   "cell_type": "code",
   "execution_count": 69,
   "metadata": {},
   "outputs": [
    {
     "name": "stdout",
     "output_type": "stream",
     "text": [
      "[(Mainak,27,$24), (Raj,26,$15), (Arun,26,$10)]\n"
     ]
    }
   ],
   "source": [
    "from operator import attrgetter\n",
    "\n",
    "s_employees = sorted(employees,key=attrgetter('salary'),reverse=True)\n",
    "print(s_employees)"
   ]
  },
  {
   "cell_type": "code",
   "execution_count": null,
   "metadata": {},
   "outputs": [],
   "source": []
  }
 ],
 "metadata": {
  "kernelspec": {
   "display_name": "Python 3.10.2 64-bit",
   "language": "python",
   "name": "python3"
  },
  "language_info": {
   "codemirror_mode": {
    "name": "ipython",
    "version": 3
   },
   "file_extension": ".py",
   "mimetype": "text/x-python",
   "name": "python",
   "nbconvert_exporter": "python",
   "pygments_lexer": "ipython3",
   "version": "3.10.2"
  },
  "orig_nbformat": 4,
  "vscode": {
   "interpreter": {
    "hash": "b6fecb9821137fb1eeea2161f49225dfc2219e02bf5341a9f2c882710ff7fd7e"
   }
  }
 },
 "nbformat": 4,
 "nbformat_minor": 2
}

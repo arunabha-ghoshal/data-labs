{
 "cells": [
  {
   "cell_type": "code",
   "execution_count": 57,
   "metadata": {},
   "outputs": [
    {
     "name": "stdout",
     "output_type": "stream",
     "text": [
      "[5, 6, 7, 9, 11, 13, 14, 15, 16, 17, 18, 19]\n"
     ]
    }
   ],
   "source": [
    "listA = eval(input(\"Enter a list :\"))\n",
    "res = []\n",
    "for i in range (len(listA)-1):\n",
    "    if listA[i+1]-listA[i] != 1:\n",
    "        count = listA[i]\n",
    "        count += 1\n",
    "        while count<listA[i+1]:\n",
    "            res.append(count)\n",
    "            count += 1\n",
    "            \n",
    "print(res)\n"
   ]
  },
  {
   "cell_type": "code",
   "execution_count": 67,
   "metadata": {},
   "outputs": [
    {
     "name": "stdout",
     "output_type": "stream",
     "text": [
      "[1, 2, 3, 5, 4]\n"
     ]
    }
   ],
   "source": [
    "from math import ceil \n",
    "listA = eval(input(\"Enter a list :\"))\n",
    "length = len(listA)\n",
    "mid = ceil(length/2)\n",
    "res = []\n",
    "for i in range(mid):\n",
    "    res.append(listA[i])\n",
    "for j in range(length-1,mid-1,-1):\n",
    "    res.append(listA[j])\n",
    "print(res)\n",
    "    \n"
   ]
  }
 ],
 "metadata": {
  "interpreter": {
   "hash": "b602f0e4b1185d2497196146f90151fa108216435f08940bcc07c19b845ae272"
  },
  "kernelspec": {
   "display_name": "Python 3.8.8 ('base')",
   "language": "python",
   "name": "python3"
  },
  "language_info": {
   "codemirror_mode": {
    "name": "ipython",
    "version": 3
   },
   "file_extension": ".py",
   "mimetype": "text/x-python",
   "name": "python",
   "nbconvert_exporter": "python",
   "pygments_lexer": "ipython3",
   "version": "3.8.8"
  },
  "orig_nbformat": 4
 },
 "nbformat": 4,
 "nbformat_minor": 2
}

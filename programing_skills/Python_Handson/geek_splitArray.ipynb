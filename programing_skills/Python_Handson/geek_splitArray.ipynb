{
 "cells": [
  {
   "cell_type": "code",
   "execution_count": 26,
   "metadata": {},
   "outputs": [
    {
     "name": "stdout",
     "output_type": "stream",
     "text": [
      "39\n",
      "7\n",
      "14\n",
      "6\n"
     ]
    }
   ],
   "source": [
    "cases = int(input())\n",
    "for case in range(cases):\n",
    "    length = int(input())\n",
    "    data = list(map(int, input().split(' ')))\n",
    "    beauty = 0\n",
    "    for i in range(len(data)):\n",
    "        if i == 0:\n",
    "            j =0\n",
    "            k = 0\n",
    "            beauty += (-1)**((j+k)%2) * data[i]\n",
    "            j += 1\n",
    "        else:\n",
    "            if data[i]>=0:\n",
    "                if (j+k)%2 == 0:\n",
    "                    beauty += (-1)**((j+k)%2) * data[i]\n",
    "                    j += 1\n",
    "                elif (j+k)%2 == 1:\n",
    "                    k += 1\n",
    "                    j = 0\n",
    "                    beauty += (-1)**((j+k)%2) * data[i]\n",
    "                    j += 1\n",
    "            elif data[i]<0:\n",
    "                if (j+k)%2 != 1:\n",
    "                    k += 1\n",
    "                    j = 0\n",
    "                    beauty += (-1)**((j+k)%2) * data[i]\n",
    "                    j += 1\n",
    "                elif (j+k)%2 == 1:\n",
    "                    beauty += (-1)**((j+k)%2) * data[i]\n",
    "                    j += 1\n",
    "        #print(j, k, beauty)\n",
    "    print(beauty)"
   ]
  }
 ],
 "metadata": {
  "interpreter": {
   "hash": "b602f0e4b1185d2497196146f90151fa108216435f08940bcc07c19b845ae272"
  },
  "kernelspec": {
   "display_name": "Python 3.8.8 ('base')",
   "language": "python",
   "name": "python3"
  },
  "language_info": {
   "codemirror_mode": {
    "name": "ipython",
    "version": 3
   },
   "file_extension": ".py",
   "mimetype": "text/x-python",
   "name": "python",
   "nbconvert_exporter": "python",
   "pygments_lexer": "ipython3",
   "version": "3.8.8"
  },
  "orig_nbformat": 4
 },
 "nbformat": 4,
 "nbformat_minor": 2
}

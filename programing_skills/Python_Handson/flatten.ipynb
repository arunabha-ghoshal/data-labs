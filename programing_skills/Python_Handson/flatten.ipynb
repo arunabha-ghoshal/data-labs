{
 "cells": [
  {
   "cell_type": "markdown",
   "metadata": {},
   "source": [
    "## Recursion"
   ]
  },
  {
   "cell_type": "code",
   "execution_count": 5,
   "metadata": {},
   "outputs": [
    {
     "data": {
      "text/plain": [
       "[1, 2, 3, 4, 5, 6, 7, 8, 9, 10]"
      ]
     },
     "execution_count": 5,
     "metadata": {},
     "output_type": "execute_result"
    }
   ],
   "source": [
    "data = [1,2,[3,4,[5,6]],7,8,[9,[10]]]\n",
    "\n",
    "res = []\n",
    "\n",
    "def removeNestings(data):\n",
    "    for elem in data:\n",
    "        if type(elem) is list:\n",
    "            removeNestings(elem)\n",
    "        else:\n",
    "            res.append(elem)\n",
    "    return res\n",
    "    \n",
    "removeNestings(data)"
   ]
  },
  {
   "cell_type": "code",
   "execution_count": 17,
   "metadata": {},
   "outputs": [
    {
     "data": {
      "text/plain": [
       "[1, 2, 3, 4, 5, 6, 7, 8, 9, 10]"
      ]
     },
     "execution_count": 17,
     "metadata": {},
     "output_type": "execute_result"
    }
   ],
   "source": [
    "from typing import *\n",
    "\n",
    "\n",
    "data = [1,2,[3,4,[5,6]],7,8,[9,[10]]]\n",
    "\n",
    "def removeNestings(data, res:Optional[List[int]]=[]) -> List:\n",
    "    for elem in data:\n",
    "        if isinstance(elem,list):\n",
    "            removeNestings(elem)\n",
    "        else:\n",
    "            res.append(elem)\n",
    "    return res\n",
    "    \n",
    "removeNestings(data)"
   ]
  },
  {
   "cell_type": "code",
   "execution_count": null,
   "metadata": {},
   "outputs": [],
   "source": []
  }
 ],
 "metadata": {
  "kernelspec": {
   "display_name": "Python 3.10.2 64-bit",
   "language": "python",
   "name": "python3"
  },
  "language_info": {
   "codemirror_mode": {
    "name": "ipython",
    "version": 3
   },
   "file_extension": ".py",
   "mimetype": "text/x-python",
   "name": "python",
   "nbconvert_exporter": "python",
   "pygments_lexer": "ipython3",
   "version": "3.10.2"
  },
  "orig_nbformat": 4,
  "vscode": {
   "interpreter": {
    "hash": "b6fecb9821137fb1eeea2161f49225dfc2219e02bf5341a9f2c882710ff7fd7e"
   }
  }
 },
 "nbformat": 4,
 "nbformat_minor": 2
}

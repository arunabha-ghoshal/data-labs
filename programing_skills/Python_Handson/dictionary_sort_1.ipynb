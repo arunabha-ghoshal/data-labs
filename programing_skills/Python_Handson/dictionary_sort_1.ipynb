{
 "cells": [
  {
   "cell_type": "code",
   "execution_count": 1,
   "metadata": {},
   "outputs": [
    {
     "name": "stdout",
     "output_type": "stream",
     "text": [
      "['Java', 'Java', 'Java', 'Avishek', 'Avishek', 'Apple']\n"
     ]
    }
   ],
   "source": [
    "data = [\"Java\",\"Apple\",\"Java\",\"Avishek\",\"Avishek\",\"Java\"]\n",
    "\n",
    "_d = {}\n",
    "for i in data:\n",
    "    _d[i] = _d.get(i,0)+1\n",
    "to_sort_list = [i for i in _d.values()]\n",
    "sorted_list = []\n",
    "\n",
    "while to_sort_list:\n",
    "    max_elem = to_sort_list[0]\n",
    "    for i in to_sort_list:\n",
    "        max_elem = max(i,max_elem)\n",
    "    sorted_list.append(max_elem)\n",
    "    to_sort_list.remove(max_elem)\n",
    "\n",
    "temp = []\n",
    "temp = [[k]*v for v in sorted_list for k in _d if _d[k]==v]\n",
    "res = []\n",
    "for _e in temp:\n",
    "    res.extend(_e)\n",
    "print(res)"
   ]
  },
  {
   "cell_type": "code",
   "execution_count": 2,
   "metadata": {},
   "outputs": [
    {
     "name": "stdout",
     "output_type": "stream",
     "text": [
      "['Java', 'Java', 'Java', 'Avishek', 'Avishek', 'Apple']\n"
     ]
    }
   ],
   "source": [
    "data = [\"Java\",\"Apple\",\"Java\",\"Avishek\",\"Avishek\",\"Java\"]\n",
    "\n",
    "_d = {}\n",
    "for i in data:\n",
    "    _d[i] = _d.get(i,0)+1\n",
    "\n",
    "sorted_list = sorted(_d.values(), reverse=True)\n",
    "\n",
    "temp = []\n",
    "temp = [[k]*v for v in sorted_list for k in _d if _d[k]==v]\n",
    "res = []\n",
    "for _e in temp:\n",
    "    res.extend(_e)\n",
    "print(res)"
   ]
  },
  {
   "cell_type": "code",
   "execution_count": 3,
   "metadata": {},
   "outputs": [
    {
     "name": "stdout",
     "output_type": "stream",
     "text": [
      "['Java - 3', 'Avishek - 2', 'Apple - 1']\n"
     ]
    }
   ],
   "source": [
    "data = [\"Java\",\"Apple\",\"Java\",\"Avishek\",\"Avishek\",\"Java\"]\n",
    "\n",
    "_d = {}\n",
    "for i in data:\n",
    "    _d[i] = _d.get(i,0)+1\n",
    "\n",
    "sorted_list = sorted(_d.values(), reverse=True)\n",
    "\n",
    "temp = []\n",
    "temp = ['{} - {}'.format(k,v) for v in sorted_list for k in _d if _d[k]==v]\n",
    "print(temp)"
   ]
  },
  {
   "cell_type": "code",
   "execution_count": null,
   "metadata": {},
   "outputs": [],
   "source": []
  }
 ],
 "metadata": {
  "kernelspec": {
   "display_name": "Python 3.10.2 64-bit",
   "language": "python",
   "name": "python3"
  },
  "language_info": {
   "codemirror_mode": {
    "name": "ipython",
    "version": 3
   },
   "file_extension": ".py",
   "mimetype": "text/x-python",
   "name": "python",
   "nbconvert_exporter": "python",
   "pygments_lexer": "ipython3",
   "version": "3.10.2"
  },
  "orig_nbformat": 4,
  "vscode": {
   "interpreter": {
    "hash": "b6fecb9821137fb1eeea2161f49225dfc2219e02bf5341a9f2c882710ff7fd7e"
   }
  }
 },
 "nbformat": 4,
 "nbformat_minor": 2
}

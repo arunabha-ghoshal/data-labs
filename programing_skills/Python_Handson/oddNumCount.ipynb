{
 "cells": [
  {
   "cell_type": "code",
   "execution_count": 14,
   "metadata": {},
   "outputs": [],
   "source": [
    "def countOdds(low, high):\n",
    "    count = 0\n",
    "    diff = high-low-1\n",
    "    if low%2 != 0 and high%2 != 0:\n",
    "        count += diff//2 + 2\n",
    "    else:\n",
    "        count += diff//2 +1\n",
    "    '''elif low%2 == 0 and high%2 == 0:\n",
    "        count += diff//2 +1\n",
    "    elif low%2 != 0 and high%2 == 0:\n",
    "        count += diff//2 +1\n",
    "    elif low%2 == 0 and high%2 != 0:\n",
    "        count += diff//2 +1'''\n",
    "    return count"
   ]
  },
  {
   "cell_type": "code",
   "execution_count": 15,
   "metadata": {},
   "outputs": [
    {
     "name": "stdout",
     "output_type": "stream",
     "text": [
      "1\n"
     ]
    }
   ],
   "source": [
    "print(countOdds(low=3, high=7))"
   ]
  },
  {
   "cell_type": "code",
   "execution_count": null,
   "metadata": {},
   "outputs": [],
   "source": []
  }
 ],
 "metadata": {
  "interpreter": {
   "hash": "b602f0e4b1185d2497196146f90151fa108216435f08940bcc07c19b845ae272"
  },
  "kernelspec": {
   "display_name": "Python 3.8.8 ('base')",
   "language": "python",
   "name": "python3"
  },
  "language_info": {
   "codemirror_mode": {
    "name": "ipython",
    "version": 3
   },
   "file_extension": ".py",
   "mimetype": "text/x-python",
   "name": "python",
   "nbconvert_exporter": "python",
   "pygments_lexer": "ipython3",
   "version": "3.8.8"
  },
  "orig_nbformat": 4
 },
 "nbformat": 4,
 "nbformat_minor": 2
}

{
 "cells": [
  {
   "cell_type": "code",
   "execution_count": 18,
   "metadata": {},
   "outputs": [
    {
     "name": "stdout",
     "output_type": "stream",
     "text": [
      "285\n",
      "43\n"
     ]
    }
   ],
   "source": [
    "import math\n",
    "\n",
    "def check(n):\n",
    "    inp = str(n)\n",
    "    sum = 0\n",
    "    prod = 1\n",
    "    for i in inp:\n",
    "        sum += int(math.pow(int(i),4))\n",
    "        prod *= int(i)\n",
    "        #print(sum, prod)\n",
    "    if math.gcd(sum, prod)>1:\n",
    "        return True\n",
    "    else:\n",
    "        return False \n",
    "\n",
    "cases = int(input())\n",
    "for case in range(cases):\n",
    "    num = int(input())\n",
    "    count = 0\n",
    "    store = []\n",
    "    for n in range(1,num+1):\n",
    "        if n in store:\n",
    "            count += 1\n",
    "        elif n not in store:\n",
    "            if check(n):\n",
    "                store.append(n)\n",
    "                count += 1\n",
    "    print(count)"
   ]
  },
  {
   "cell_type": "code",
   "execution_count": null,
   "metadata": {},
   "outputs": [],
   "source": []
  }
 ],
 "metadata": {
  "interpreter": {
   "hash": "b602f0e4b1185d2497196146f90151fa108216435f08940bcc07c19b845ae272"
  },
  "kernelspec": {
   "display_name": "Python 3.8.8 ('base')",
   "language": "python",
   "name": "python3"
  },
  "language_info": {
   "codemirror_mode": {
    "name": "ipython",
    "version": 3
   },
   "file_extension": ".py",
   "mimetype": "text/x-python",
   "name": "python",
   "nbconvert_exporter": "python",
   "pygments_lexer": "ipython3",
   "version": "3.8.8"
  },
  "orig_nbformat": 4
 },
 "nbformat": 4,
 "nbformat_minor": 2
}

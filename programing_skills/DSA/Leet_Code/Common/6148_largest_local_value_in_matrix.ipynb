{
 "cells": [
  {
   "cell_type": "code",
   "execution_count": 45,
   "metadata": {},
   "outputs": [],
   "source": [
    "from typing import *\n",
    "class Solution:\n",
    "    def largestLocal(self, grid: List[List[int]]) -> List[List[int]]:\n",
    "        res = [[[0] for i in range(len(grid)-2)] for i in range(len(grid)-2)]\n",
    "        print(res)\n",
    "        assert False\n",
    "        for i in range(0,len(grid)-2):\n",
    "            for j in range(0,len(grid)-2):\n",
    "                max_elem = -float('inf')\n",
    "                for m in range(i,i+3):\n",
    "                    for n in range(j,j+3):\n",
    "                        if grid[m][n]>max_elem:\n",
    "                            max_elem = grid[m][n]\n",
    "                print('##',max_elem)\n",
    "                # print(i,j)\n",
    "                # print(res[i][j])\n",
    "                res[i][j] = max_elem\n",
    "                print(res)\n",
    "        return res"
   ]
  },
  {
   "cell_type": "code",
   "execution_count": 46,
   "metadata": {},
   "outputs": [
    {
     "name": "stdout",
     "output_type": "stream",
     "text": [
      "[[[0], [0]], [[0], [0]]]\n"
     ]
    },
    {
     "ename": "AssertionError",
     "evalue": "",
     "output_type": "error",
     "traceback": [
      "\u001b[1;31m---------------------------------------------------------------------------\u001b[0m",
      "\u001b[1;31mAssertionError\u001b[0m                            Traceback (most recent call last)",
      "\u001b[1;32me:\\Programming_Skills\\programming_skills\\Data_Structures_Algorithm\\Leet_Code\\Contest_Q\\6148_largest_local_value_in_matrix.ipynb Cell 2\u001b[0m in \u001b[0;36m<cell line: 2>\u001b[1;34m()\u001b[0m\n\u001b[0;32m      <a href='vscode-notebook-cell:/e%3A/Programming_Skills/programming_skills/Data_Structures_Algorithm/Leet_Code/Contest_Q/6148_largest_local_value_in_matrix.ipynb#W1sZmlsZQ%3D%3D?line=0'>1</a>\u001b[0m sol \u001b[39m=\u001b[39m Solution()\n\u001b[1;32m----> <a href='vscode-notebook-cell:/e%3A/Programming_Skills/programming_skills/Data_Structures_Algorithm/Leet_Code/Contest_Q/6148_largest_local_value_in_matrix.ipynb#W1sZmlsZQ%3D%3D?line=1'>2</a>\u001b[0m sol\u001b[39m.\u001b[39;49mlargestLocal(grid \u001b[39m=\u001b[39;49m [[\u001b[39m9\u001b[39;49m,\u001b[39m9\u001b[39;49m,\u001b[39m8\u001b[39;49m,\u001b[39m1\u001b[39;49m],[\u001b[39m5\u001b[39;49m,\u001b[39m6\u001b[39;49m,\u001b[39m2\u001b[39;49m,\u001b[39m6\u001b[39;49m],[\u001b[39m8\u001b[39;49m,\u001b[39m2\u001b[39;49m,\u001b[39m6\u001b[39;49m,\u001b[39m4\u001b[39;49m],[\u001b[39m6\u001b[39;49m,\u001b[39m2\u001b[39;49m,\u001b[39m2\u001b[39;49m,\u001b[39m2\u001b[39;49m]])\n",
      "\u001b[1;32me:\\Programming_Skills\\programming_skills\\Data_Structures_Algorithm\\Leet_Code\\Contest_Q\\6148_largest_local_value_in_matrix.ipynb Cell 2\u001b[0m in \u001b[0;36mSolution.largestLocal\u001b[1;34m(self, grid)\u001b[0m\n\u001b[0;32m      <a href='vscode-notebook-cell:/e%3A/Programming_Skills/programming_skills/Data_Structures_Algorithm/Leet_Code/Contest_Q/6148_largest_local_value_in_matrix.ipynb#W1sZmlsZQ%3D%3D?line=3'>4</a>\u001b[0m res \u001b[39m=\u001b[39m [[[\u001b[39m0\u001b[39m] \u001b[39mfor\u001b[39;00m i \u001b[39min\u001b[39;00m \u001b[39mrange\u001b[39m(\u001b[39mlen\u001b[39m(grid)\u001b[39m-\u001b[39m\u001b[39m2\u001b[39m)] \u001b[39mfor\u001b[39;00m i \u001b[39min\u001b[39;00m \u001b[39mrange\u001b[39m(\u001b[39mlen\u001b[39m(grid)\u001b[39m-\u001b[39m\u001b[39m2\u001b[39m)]\n\u001b[0;32m      <a href='vscode-notebook-cell:/e%3A/Programming_Skills/programming_skills/Data_Structures_Algorithm/Leet_Code/Contest_Q/6148_largest_local_value_in_matrix.ipynb#W1sZmlsZQ%3D%3D?line=4'>5</a>\u001b[0m \u001b[39mprint\u001b[39m(res)\n\u001b[1;32m----> <a href='vscode-notebook-cell:/e%3A/Programming_Skills/programming_skills/Data_Structures_Algorithm/Leet_Code/Contest_Q/6148_largest_local_value_in_matrix.ipynb#W1sZmlsZQ%3D%3D?line=5'>6</a>\u001b[0m \u001b[39massert\u001b[39;00m \u001b[39mFalse\u001b[39;00m\n\u001b[0;32m      <a href='vscode-notebook-cell:/e%3A/Programming_Skills/programming_skills/Data_Structures_Algorithm/Leet_Code/Contest_Q/6148_largest_local_value_in_matrix.ipynb#W1sZmlsZQ%3D%3D?line=6'>7</a>\u001b[0m \u001b[39mfor\u001b[39;00m i \u001b[39min\u001b[39;00m \u001b[39mrange\u001b[39m(\u001b[39m0\u001b[39m,\u001b[39mlen\u001b[39m(grid)\u001b[39m-\u001b[39m\u001b[39m2\u001b[39m):\n\u001b[0;32m      <a href='vscode-notebook-cell:/e%3A/Programming_Skills/programming_skills/Data_Structures_Algorithm/Leet_Code/Contest_Q/6148_largest_local_value_in_matrix.ipynb#W1sZmlsZQ%3D%3D?line=7'>8</a>\u001b[0m     \u001b[39mfor\u001b[39;00m j \u001b[39min\u001b[39;00m \u001b[39mrange\u001b[39m(\u001b[39m0\u001b[39m,\u001b[39mlen\u001b[39m(grid)\u001b[39m-\u001b[39m\u001b[39m2\u001b[39m):\n",
      "\u001b[1;31mAssertionError\u001b[0m: "
     ]
    }
   ],
   "source": [
    "sol = Solution()\n",
    "sol.largestLocal(grid = [[9,9,8,1],[5,6,2,6],[8,2,6,4],[6,2,2,2]])"
   ]
  },
  {
   "cell_type": "code",
   "execution_count": 47,
   "metadata": {},
   "outputs": [],
   "source": [
    "from typing import *\n",
    "class Solution:\n",
    "    def largestLocal(self, grid: List[List[int]]) -> List[List[int]]:\n",
    "        res = [[] for i in range(len(grid)-2)]\n",
    "        for i in range(0,len(grid)-2):\n",
    "            for j in range(0,len(grid)-2):\n",
    "                max_elem = -float('inf')\n",
    "                for m in range(i,i+3):\n",
    "                    for n in range(j,j+3):\n",
    "                        if grid[m][n]>max_elem:\n",
    "                            max_elem = grid[m][n]\n",
    "                res[i].append(max_elem)\n",
    "        return res"
   ]
  },
  {
   "cell_type": "code",
   "execution_count": 48,
   "metadata": {},
   "outputs": [
    {
     "data": {
      "text/plain": [
       "[[9, 9], [8, 6]]"
      ]
     },
     "execution_count": 48,
     "metadata": {},
     "output_type": "execute_result"
    }
   ],
   "source": [
    "sol = Solution()\n",
    "sol.largestLocal(grid = [[9,9,8,1],[5,6,2,6],[8,2,6,4],[6,2,2,2]])"
   ]
  },
  {
   "cell_type": "code",
   "execution_count": null,
   "metadata": {},
   "outputs": [],
   "source": []
  }
 ],
 "metadata": {
  "kernelspec": {
   "display_name": "Python 3.8.0 ('nano')",
   "language": "python",
   "name": "python3"
  },
  "language_info": {
   "codemirror_mode": {
    "name": "ipython",
    "version": 3
   },
   "file_extension": ".py",
   "mimetype": "text/x-python",
   "name": "python",
   "nbconvert_exporter": "python",
   "pygments_lexer": "ipython3",
   "version": "3.8.0"
  },
  "orig_nbformat": 4,
  "vscode": {
   "interpreter": {
    "hash": "684c0abba0e8cae92dfbd9f89db03763847d08a33512207d5f96abbeb8b8f6c7"
   }
  }
 },
 "nbformat": 4,
 "nbformat_minor": 2
}

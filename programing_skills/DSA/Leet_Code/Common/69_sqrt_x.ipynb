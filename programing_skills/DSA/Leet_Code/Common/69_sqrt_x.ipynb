{
 "cells": [
  {
   "cell_type": "code",
   "execution_count": 10,
   "metadata": {},
   "outputs": [],
   "source": [
    "from typing import *\n",
    "\n",
    "class Solution:\n",
    "    def mySqrt(self, x: int) -> int:\n",
    "        left = 0\n",
    "        right = x\n",
    "        while left < right:\n",
    "            mid = (left+right)//2\n",
    "            if mid*mid < x:\n",
    "                left = mid+1\n",
    "            else:\n",
    "                right = mid\n",
    "        if left*left != x:\n",
    "            return left-1\n",
    "        else:\n",
    "            return left"
   ]
  },
  {
   "cell_type": "code",
   "execution_count": 11,
   "metadata": {},
   "outputs": [
    {
     "data": {
      "text/plain": [
       "2"
      ]
     },
     "execution_count": 11,
     "metadata": {},
     "output_type": "execute_result"
    }
   ],
   "source": [
    "sol = Solution()\n",
    "sol.mySqrt(8)"
   ]
  },
  {
   "cell_type": "code",
   "execution_count": 18,
   "metadata": {},
   "outputs": [],
   "source": [
    "class Solution_2:\n",
    "    def mySqrt(self, x: int) -> int:\n",
    "        left = 0\n",
    "        right = x\n",
    "        while left < right:\n",
    "            mid = (left+right)//2\n",
    "            print(left,right,mid)\n",
    "            if mid*mid > x:\n",
    "                right = mid\n",
    "            else:\n",
    "                left = mid+1\n",
    "        return left-1 if left*left != x else left"
   ]
  },
  {
   "cell_type": "code",
   "execution_count": 19,
   "metadata": {},
   "outputs": [
    {
     "name": "stdout",
     "output_type": "stream",
     "text": [
      "0 8 4\n",
      "0 4 2\n",
      "3 4 3\n"
     ]
    },
    {
     "data": {
      "text/plain": [
       "2"
      ]
     },
     "execution_count": 19,
     "metadata": {},
     "output_type": "execute_result"
    }
   ],
   "source": [
    "sol = Solution_2()\n",
    "sol.mySqrt(8)"
   ]
  },
  {
   "cell_type": "code",
   "execution_count": 29,
   "metadata": {},
   "outputs": [],
   "source": [
    "class Solution_3:\n",
    "    def mySqrt(self, x: int) -> int:\n",
    "        if x<2:\n",
    "            return x\n",
    "        left, right = 2,x//2\n",
    "        while left<=right:\n",
    "            pivot = left+(right-left)//2\n",
    "            print(left,right,pivot)\n",
    "            num = pivot*pivot\n",
    "            if num>x:\n",
    "                right = pivot-1\n",
    "            elif num<x:\n",
    "                left = pivot+1\n",
    "            else:\n",
    "                return pivot\n",
    "        return right"
   ]
  },
  {
   "cell_type": "code",
   "execution_count": 30,
   "metadata": {},
   "outputs": [
    {
     "name": "stdout",
     "output_type": "stream",
     "text": [
      "2 10 6\n",
      "2 5 3\n",
      "4 5 4\n",
      "5 5 5\n"
     ]
    },
    {
     "data": {
      "text/plain": [
       "4"
      ]
     },
     "execution_count": 30,
     "metadata": {},
     "output_type": "execute_result"
    }
   ],
   "source": [
    "sol = Solution_3()\n",
    "sol.mySqrt(20)"
   ]
  },
  {
   "cell_type": "code",
   "execution_count": null,
   "metadata": {},
   "outputs": [],
   "source": []
  }
 ],
 "metadata": {
  "kernelspec": {
   "display_name": "Python 3.8.8 ('base')",
   "language": "python",
   "name": "python3"
  },
  "language_info": {
   "codemirror_mode": {
    "name": "ipython",
    "version": 3
   },
   "file_extension": ".py",
   "mimetype": "text/x-python",
   "name": "python",
   "nbconvert_exporter": "python",
   "pygments_lexer": "ipython3",
   "version": "3.8.8"
  },
  "orig_nbformat": 4,
  "vscode": {
   "interpreter": {
    "hash": "307dbe51e3dcef5569124e7d57ec808801b3d223ad1b45e2fa30ec5f1fe08a98"
   }
  }
 },
 "nbformat": 4,
 "nbformat_minor": 2
}

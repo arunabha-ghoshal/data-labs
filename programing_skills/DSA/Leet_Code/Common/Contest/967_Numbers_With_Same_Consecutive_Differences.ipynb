{
 "cells": [
  {
   "cell_type": "code",
   "execution_count": 9,
   "metadata": {},
   "outputs": [],
   "source": [
    "from typing import *\n",
    "\n",
    "class Solution:\n",
    "    def __init__(self) -> None:\n",
    "        self.res = []\n",
    "        \n",
    "    def numsSameConsecDiff(self, n: int, k: int) -> List[int]:\n",
    "        for i in range(1,10):\n",
    "            start = num = i\n",
    "            self.helper(start, n, num, k)\n",
    "        return self.res\n",
    "\n",
    "        \n",
    "    def helper(self, start:int, n:int, num:int, k:int):\n",
    "        if n == 1:\n",
    "            if num not in self.res:\n",
    "                self.res.append(num)\n",
    "            return num\n",
    "        num = num*10\n",
    "        \n",
    "        if start+k<=9:\n",
    "            prev = start+k\n",
    "            self.helper(start=prev, n=n-1, num=num+prev, k=k)\n",
    "        if start-k>=0:\n",
    "            prev = start-k\n",
    "            self.helper(start=prev, n=n-1, num=num+prev, k=k)"
   ]
  },
  {
   "cell_type": "code",
   "execution_count": 10,
   "metadata": {},
   "outputs": [
    {
     "data": {
      "text/plain": [
       "[181, 292, 707, 818, 929]"
      ]
     },
     "execution_count": 10,
     "metadata": {},
     "output_type": "execute_result"
    }
   ],
   "source": [
    "sol = Solution()\n",
    "sol.numsSameConsecDiff(n = 3, k = 7)"
   ]
  },
  {
   "cell_type": "code",
   "execution_count": null,
   "metadata": {},
   "outputs": [],
   "source": [
    "from typing import *\n",
    "\n",
    "class Solution_2:\n",
    "    def numsSameConsecDiff(self, n: int, k: int) -> List[int]:\n",
    "        res = []\n",
    "\n",
    "        def helper(n:int, k:int, num:int, prev:int):\n",
    "            "
   ]
  }
 ],
 "metadata": {
  "kernelspec": {
   "display_name": "Python 3.8.8 ('base')",
   "language": "python",
   "name": "python3"
  },
  "language_info": {
   "codemirror_mode": {
    "name": "ipython",
    "version": 3
   },
   "file_extension": ".py",
   "mimetype": "text/x-python",
   "name": "python",
   "nbconvert_exporter": "python",
   "pygments_lexer": "ipython3",
   "version": "3.8.8"
  },
  "orig_nbformat": 4,
  "vscode": {
   "interpreter": {
    "hash": "307dbe51e3dcef5569124e7d57ec808801b3d223ad1b45e2fa30ec5f1fe08a98"
   }
  }
 },
 "nbformat": 4,
 "nbformat_minor": 2
}
